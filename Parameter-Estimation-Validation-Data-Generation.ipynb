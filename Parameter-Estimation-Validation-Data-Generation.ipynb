{
 "cells": [
  {
   "cell_type": "code",
   "execution_count": 4,
   "id": "9bc4b1e2-4308-4688-b194-d8a5096efcb1",
   "metadata": {},
   "outputs": [],
   "source": [
    "from pycbc import distributions\n",
    "from pycbc.waveform import get_td_waveform, td_approximants\n",
    "from pycbc.detector import Detector\n",
    "import matplotlib.pyplot as plt\n",
    "import numpy as np\n",
    "import gwpy\n",
    "import pylab\n",
    "from tqdm.notebook import tqdm\n",
    "from gwpy.timeseries import TimeSeries\n",
    "import pandas as pd\n",
    "import os\n",
    "import csv\n",
    "import pycbc.noise\n",
    "import pycbc.psd\n",
    "from pycbc.filter import matched_filter"
   ]
  },
  {
   "cell_type": "code",
   "execution_count": 5,
   "id": "8a39edff-82b9-4145-86c2-5651d94cb763",
   "metadata": {},
   "outputs": [],
   "source": [
    "no_of_params = 2\n",
    "directory = \"C:/Users/sunda/Documents/Github/Gravitational Wave Detection/scripts/raw-val-data-files/Parameter Estimation/\"+str(no_of_params)+\"_parameters/\""
   ]
  },
  {
   "cell_type": "code",
   "execution_count": 6,
   "id": "423e7c3b-c959-44b3-8dc5-37122b2711ac",
   "metadata": {},
   "outputs": [],
   "source": [
    "bbh_two_mass_distributions = distributions.Uniform(mass1=(10, 50),mass2=(10, 50))\n",
    "bbh_two_mass_samples = bbh_two_mass_distributions.rvs(size=1000)"
   ]
  },
  {
   "cell_type": "code",
   "execution_count": 7,
   "id": "5a034744-52f7-4be2-bbb5-92b9451b91e3",
   "metadata": {},
   "outputs": [
    {
     "data": {
      "application/vnd.jupyter.widget-view+json": {
       "model_id": "72db8c87bd5a44d6944cf2cc4945378c",
       "version_major": 2,
       "version_minor": 0
      },
      "text/plain": [
       "  0%|          | 0/1000 [00:00<?, ?it/s]"
      ]
     },
     "metadata": {},
     "output_type": "display_data"
    }
   ],
   "source": [
    "start_times_bbh = [0, 0.5, 1, 1.5, 2, 2.5, 3, 3.5]\n",
    "bbh_data_targets = np.zeros((len(bbh_two_mass_samples), no_of_params))\n",
    "os.makedirs(directory, exist_ok=True)\n",
    "os.makedirs(directory+\"merged_bbh_noise_signal/\", exist_ok=True)\n",
    "\n",
    "for i in tqdm(range(len(bbh_two_mass_samples))):\n",
    "\n",
    "    m1 = max(bbh_two_mass_samples[i][0], bbh_two_mass_samples[i][1])\n",
    "    m2 = min(bbh_two_mass_samples[i][0], bbh_two_mass_samples[i][1])\n",
    "\n",
    "    bbh_data_targets[i][0] = m1\n",
    "    bbh_data_targets[i][1] = m2\n",
    "\n",
    "    hp1, hc1 = get_td_waveform(approximant=\"SEOBNRv2\",                                \n",
    "                         mass1=m1,\n",
    "                         mass2=m2,\n",
    "                         delta_t=1.0/4096,\n",
    "                         f_lower=40)\n",
    "\n",
    "    \n",
    "    bbh_signal = TimeSeries.from_pycbc(hp1)\n",
    "    st1 = np.random.randint(0, 8)\n",
    "    bbh_signal.t0 = start_times_bbh[st1]\n",
    "    bbh_signal = (bbh_signal/(max(bbh_signal.max(), np.abs(bbh_signal.min()))))*0.2\n",
    "\n",
    "\n",
    "    # The color of the noise matches a PSD which you provide\n",
    "    flow = 30.0\n",
    "    delta_f = 1.0 / 16\n",
    "    flen = int(2048 / delta_f) + 1\n",
    "    psd = pycbc.psd.aLIGOZeroDetHighPower(flen, delta_f, flow)\n",
    "\n",
    "    # Generate 4 seconds of noise at 4096 Hz\n",
    "    delta_t = 1.0 / 4096\n",
    "    tsamples = int(4 / delta_t)\n",
    "    noise = pycbc.noise.noise_from_psd(tsamples, delta_t, psd)\n",
    "\n",
    "    noise *= 1e21\n",
    "    noise *= 0.4\n",
    "    noise = TimeSeries.from_pycbc(noise)\n",
    "\n",
    "    data = noise.inject(bbh_signal)\n",
    "    data *= 1e-17\n",
    "\n",
    "    data.write(directory + \"merged_bbh_noise_signal/merged_noise_signal_\"+str(i)+\".txt\")\n",
    "np.savetxt(directory + \"val_Final_BBH_Merged_Noise_Signal_Targets_\"+str(no_of_params)+\"_parameters.csv\", bbh_data_targets, delimiter = \",\")"
   ]
  },
  {
   "cell_type": "code",
   "execution_count": 8,
   "id": "81f07bf8-6d4e-46a0-8ce3-43a3b75b9826",
   "metadata": {},
   "outputs": [
    {
     "data": {
      "application/vnd.jupyter.widget-view+json": {
       "model_id": "2abdc1d859144e5c968d9ce39828c96e",
       "version_major": 2,
       "version_minor": 0
      },
      "text/plain": [
       "  0%|          | 0/1000 [00:00<?, ?it/s]"
      ]
     },
     "metadata": {},
     "output_type": "display_data"
    }
   ],
   "source": [
    "path = directory + \"merged_bbh_noise_signal/\"\n",
    "files= os.listdir(path)\n",
    "f = open(directory + 'val_Final_BBH_Merged_Noise_Signal_Reduced_No_ABS_'+str(no_of_params)+'_parameters.csv', 'w')\n",
    "cw = csv.writer(f)\n",
    "\n",
    "for i in tqdm(files):\n",
    "    df = pd.read_csv(path+i,sep = ' ', header=None)\n",
    "    c = df[:][1]\n",
    "    cw.writerow(c)\n",
    "f.close()"
   ]
  },
  {
   "cell_type": "code",
   "execution_count": 9,
   "id": "47d38312-ea97-4a4c-b6c0-28de7fa54e19",
   "metadata": {},
   "outputs": [],
   "source": [
    "bns_two_mass_distributions = distributions.Uniform(mass1=(1, 2),mass2=(1, 2))\n",
    "bns_two_mass_samples = bns_two_mass_distributions.rvs(size=1000)"
   ]
  },
  {
   "cell_type": "code",
   "execution_count": 10,
   "id": "38113c3b-f763-44ee-9b3c-a53a9e053946",
   "metadata": {},
   "outputs": [
    {
     "data": {
      "application/vnd.jupyter.widget-view+json": {
       "model_id": "6216c2a76c1c44d68668449754023e23",
       "version_major": 2,
       "version_minor": 0
      },
      "text/plain": [
       "  0%|          | 0/1000 [00:00<?, ?it/s]"
      ]
     },
     "metadata": {},
     "output_type": "display_data"
    }
   ],
   "source": [
    "start_times_bns = [0, 0.5, 1, 1.5, 2, 2.5, 3]\n",
    "bns_data_targets = np.zeros((len(bns_two_mass_samples), no_of_params))\n",
    "os.makedirs(directory+\"merged_bns_noise_signal/\", exist_ok=True)\n",
    "\n",
    "\n",
    "for i in tqdm(range(len(bns_two_mass_samples))):\n",
    "\n",
    "    m1 = max(bns_two_mass_samples[i][0], bns_two_mass_samples[i][1])\n",
    "    m2 = min(bns_two_mass_samples[i][0], bns_two_mass_samples[i][1])\n",
    "    \n",
    "    bns_data_targets[i][0] = m1\n",
    "    bns_data_targets[i][1] = m2\n",
    "\n",
    "    hp2, hc2 = get_td_waveform(approximant=\"IMRPhenomPv2_NRTidal\", \n",
    "                         mass1=m1,\n",
    "                         mass2=m2,\n",
    "                         delta_t=1.0/4096,\n",
    "                         f_lower=40)\n",
    "\n",
    "\n",
    "    # Extract the last 1 sec from the BNS signal\n",
    "    t = hp2.get_end_time()\n",
    "    hp2 = hp2.time_slice(t-1, t)\n",
    "\n",
    "    bns_signal = TimeSeries.from_pycbc(hp2)\n",
    "    st2 = np.random.randint(0, 7)\n",
    "    bns_signal.t0 = start_times_bns[st2]\n",
    "    bns_signal = bns_signal.taper()\n",
    "    bns_signal = (bns_signal/(max(bns_signal.max(), np.abs(bns_signal.min()))))*0.2\n",
    "\n",
    "    # The color of the noise matches a PSD which you provide\n",
    "    flow = 30.0\n",
    "    delta_f = 1.0 / 16\n",
    "    flen = int(2048 / delta_f) + 1\n",
    "    psd = pycbc.psd.aLIGOZeroDetHighPower(flen, delta_f, flow)\n",
    "\n",
    "    # Generate 4 seconds of noise at 4096 Hz\n",
    "    delta_t = 1.0 / 4096\n",
    "    tsamples = int(4 / delta_t)\n",
    "    noise = pycbc.noise.noise_from_psd(tsamples, delta_t, psd)\n",
    "\n",
    "    noise *= 1e21\n",
    "    noise *= 0.4\n",
    "    noise = TimeSeries.from_pycbc(noise)\n",
    "\n",
    "    data = noise.inject(bns_signal)\n",
    "    data *= 1e-17\n",
    "\n",
    "    data.write(directory + \"merged_bns_noise_signal/bns_merged_noise_signal_\"+str(i)+\".txt\")\n",
    "np.savetxt(directory + \"val_Final_BNS_Merged_Noise_Signal_Targets_\"+str(no_of_params)+\"_parameters.csv\", bns_data_targets, delimiter = \",\")"
   ]
  },
  {
   "cell_type": "code",
   "execution_count": 11,
   "id": "1727fd75-bf7f-460b-8569-a5fd8bb456fc",
   "metadata": {},
   "outputs": [
    {
     "data": {
      "application/vnd.jupyter.widget-view+json": {
       "model_id": "06a53f034272468a8eac88741e203a61",
       "version_major": 2,
       "version_minor": 0
      },
      "text/plain": [
       "  0%|          | 0/1000 [00:00<?, ?it/s]"
      ]
     },
     "metadata": {},
     "output_type": "display_data"
    }
   ],
   "source": [
    "\n",
    "path = directory + \"merged_bns_noise_signal/\"\n",
    "files= os.listdir(path)\n",
    "f = open(directory + 'val_Final_BNS_Merged_Noise_Signal_Reduced_No_ABS_'+str(no_of_params)+'_parameters.csv', 'w')\n",
    "cw = csv.writer(f)\n",
    "\n",
    "for i in tqdm(files):\n",
    "    df = pd.read_csv(path+i,sep = ' ', header=None)\n",
    "    c = df[:][1]\n",
    "    cw.writerow(c)\n",
    "f.close()"
   ]
  },
  {
   "cell_type": "code",
   "execution_count": 12,
   "id": "bf5a4f8c-01fa-4d5b-a01d-27033a0dd1da",
   "metadata": {},
   "outputs": [
    {
     "data": {
      "application/vnd.jupyter.widget-view+json": {
       "model_id": "0558b8928ea24e7a92fab064ef946aba",
       "version_major": 2,
       "version_minor": 0
      },
      "text/plain": [
       "  0%|          | 0/1000 [00:00<?, ?it/s]"
      ]
     },
     "metadata": {},
     "output_type": "display_data"
    }
   ],
   "source": [
    "os.makedirs(directory+\"noise/\", exist_ok=True)\n",
    "\n",
    "for i in tqdm(range(len(bbh_two_mass_samples))):\n",
    "\n",
    "    # The color of the noise matches a PSD which you provide\n",
    "    flow = 30.0\n",
    "    delta_f = 1.0 / 16\n",
    "    flen = int(2048 / delta_f) + 1\n",
    "    psd = pycbc.psd.aLIGOZeroDetHighPower(flen, delta_f, flow)\n",
    "\n",
    "    # Generate 4 seconds of noise at 4096 Hz\n",
    "    delta_t = 1.0 / 4096\n",
    "    tsamples = int(4 / delta_t)\n",
    "    noise = pycbc.noise.noise_from_psd(tsamples, delta_t, psd)\n",
    "\n",
    "    noise *= 1e21\n",
    "    noise *= 0.4\n",
    "    noise = TimeSeries.from_pycbc(noise)\n",
    "    \n",
    "    noise *= 1e-17\n",
    "\n",
    "    noise.write(directory + \"noise/noise_\"+str(i)+\".txt\")"
   ]
  },
  {
   "cell_type": "code",
   "execution_count": 13,
   "id": "551ee5fc-8257-46d2-9607-a7985f676ac5",
   "metadata": {},
   "outputs": [
    {
     "data": {
      "application/vnd.jupyter.widget-view+json": {
       "model_id": "7cc4ec04b51041c68dc211737ed7d9d8",
       "version_major": 2,
       "version_minor": 0
      },
      "text/plain": [
       "  0%|          | 0/1000 [00:00<?, ?it/s]"
      ]
     },
     "metadata": {},
     "output_type": "display_data"
    }
   ],
   "source": [
    "path = directory + \"noise/\"\n",
    "files= os.listdir(path)\n",
    "f = open(directory + 'val_Final_Merged_Noise_Reduced_No_ABS_' + str(no_of_params) + '_parameters.csv', 'w')\n",
    "cw = csv.writer(f)\n",
    "\n",
    "for i in tqdm(files):\n",
    "    df = pd.read_csv(path+i,sep = ' ', header=None)\n",
    "    c = df[:][1]\n",
    "    cw.writerow(c)\n",
    "f.close()"
   ]
  },
  {
   "cell_type": "code",
   "execution_count": null,
   "id": "7c58ba9d-86f6-4bac-8ca6-9babc89ec538",
   "metadata": {},
   "outputs": [],
   "source": []
  }
 ],
 "metadata": {
  "kernelspec": {
   "display_name": "Python 3 (ipykernel)",
   "language": "python",
   "name": "python3"
  },
  "language_info": {
   "codemirror_mode": {
    "name": "ipython",
    "version": 3
   },
   "file_extension": ".py",
   "mimetype": "text/x-python",
   "name": "python",
   "nbconvert_exporter": "python",
   "pygments_lexer": "ipython3",
   "version": "3.8.10"
  }
 },
 "nbformat": 4,
 "nbformat_minor": 5
}
