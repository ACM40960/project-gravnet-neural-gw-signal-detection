{
 "cells": [
  {
   "cell_type": "code",
   "execution_count": 25,
   "id": "b7a6b6f0",
   "metadata": {},
   "outputs": [],
   "source": [
    "import numpy as np\n",
    "import matplotlib.pyplot as plt\n",
    "import os\n",
    "from tqdm import tqdm\n",
    "from pycbc.waveform import get_td_waveform\n",
    "from pycbc.noise import noise_from_psd\n",
    "from pycbc.psd import aLIGOZeroDetHighPower\n",
    "from scipy.signal import spectrogram"
   ]
  },
  {
   "cell_type": "code",
   "execution_count": 26,
   "id": "36bd6023",
   "metadata": {},
   "outputs": [],
   "source": [
    "num_samples = 2000\n",
    "sample_rate = 4096\n",
    "duration = 4\n",
    "samples = sample_rate * duration\n",
    "target_snr = 8\n",
    "save_dir = \"results\""
   ]
  },
  {
   "cell_type": "code",
   "execution_count": 27,
   "id": "22c9a106",
   "metadata": {},
   "outputs": [],
   "source": [
    "os.makedirs(save_dir, exist_ok = True)\n",
    "x=[]\n",
    "y=[]"
   ]
  },
  {
   "cell_type": "code",
   "execution_count": 28,
   "id": "50b6ef3f",
   "metadata": {},
   "outputs": [],
   "source": [
    "yes_signal = num_samples//2\n",
    "no_signal = num_samples - yes_signal\n",
    "labels = [1] * yes_signal + [0] * no_signal\n",
    "np.random.seed(42)\n",
    "np.random.shuffle(labels)"
   ]
  },
  {
   "cell_type": "code",
   "execution_count": 29,
   "id": "9094a7c0",
   "metadata": {},
   "outputs": [
    {
     "name": "stderr",
     "output_type": "stream",
     "text": [
      "100%|██████████| 2000/2000 [15:06<00:00,  2.21it/s]\n"
     ]
    },
    {
     "name": "stdout",
     "output_type": "stream",
     "text": [
      "✅ Dataset saved:\n",
      "  X shape: (2000, 513, 31, 1)\n",
      "  y shape: (2000,)\n"
     ]
    }
   ],
   "source": [
    "for i in tqdm(range(num_samples)):\n",
    "    noise = noise_from_psd(\n",
    "        length = samples,\n",
    "        delta_t = 1/sample_rate,\n",
    "        psd = aLIGOZeroDetHighPower(\n",
    "            length = samples // 2 + 1,\n",
    "            delta_f = 1.0 / (samples * (1.0 / sample_rate)),\n",
    "            low_freq_cutoff = 20\n",
    "        ),\n",
    "        seed = i\n",
    "    ).numpy()\n",
    "    \n",
    "    if labels[i]:\n",
    "        hp,_ = get_td_waveform(\n",
    "            approximant = \"IMRPhenomXPHM\",\n",
    "            mass1 = np.random.uniform(20,40),\n",
    "            mass2 = np.random.uniform(20,40),\n",
    "            spin1z = np.random.uniform(-0.9, 0.9),\n",
    "            spin2z = np.random.uniform(-0.9, 0.9),\n",
    "            distance = np.random.uniform(300, 800),\n",
    "            inclination = np.random.uniform(0, np.pi),\n",
    "            delta_t = 1.0/ sample_rate,\n",
    "            f_lower =30\n",
    "        )\n",
    "        \n",
    "        signal = hp.numpy()\n",
    "        if len(signal) < samples:\n",
    "            signal = np.pad(signal, (0, samples - len(signal)))\n",
    "        else:\n",
    "            signal = signal[:samples]\n",
    "        \n",
    "        signal_power = np.sqrt(np.mean(signal**2))\n",
    "        noise_power = np.sqrt(np.mean(noise**2))\n",
    "        scale = (target_snr * noise_power)/ signal_power\n",
    "        signal *= scale\n",
    "        \n",
    "        injected = noise + signal\n",
    "    \n",
    "    else:\n",
    "        injected = noise\n",
    "        \n",
    "    f, t, Sxx = spectrogram(\n",
    "        injected, \n",
    "        fs=sample_rate, \n",
    "        nperseg = 1024,\n",
    "        noverlap = 512\n",
    "    )\n",
    "    \n",
    "    Sxx_log = 10 * np.log10(Sxx + 1e-10)\n",
    "    std = np.std(Sxx_log)\n",
    "    if std == 0:\n",
    "        std = 1e-6\n",
    "    Sxx_log = (Sxx_log - np.mean(Sxx_log)) / std\n",
    "    Sxx_log = Sxx_log[:513,:31]\n",
    "    \n",
    "    x.append(Sxx_log)\n",
    "    y.append(labels[i])\n",
    "    \n",
    "\n",
    "x = np.array(x)[...,np.newaxis]\n",
    "y = np.array(y)\n",
    "\n",
    "np.save(os.path.join(save_dir, \"x.npy\"), x)\n",
    "np.save(os.path.join(save_dir, \"y.npy\"), y)\n",
    "\n",
    "print(\"✅ Dataset saved:\")\n",
    "print(\"  X shape:\", x.shape)\n",
    "print(\"  y shape:\", y.shape)"
   ]
  },
  {
   "cell_type": "code",
   "execution_count": null,
   "id": "b3d4b217",
   "metadata": {},
   "outputs": [],
   "source": []
  }
 ],
 "metadata": {
  "kernelspec": {
   "display_name": "Python 3 (ipykernel)",
   "language": "python",
   "name": "python3"
  },
  "language_info": {
   "codemirror_mode": {
    "name": "ipython",
    "version": 3
   },
   "file_extension": ".py",
   "mimetype": "text/x-python",
   "name": "python",
   "nbconvert_exporter": "python",
   "pygments_lexer": "ipython3",
   "version": "3.8.10"
  }
 },
 "nbformat": 4,
 "nbformat_minor": 5
}
