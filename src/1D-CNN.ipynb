{
 "cells": [
  {
   "cell_type": "code",
   "execution_count": 15,
   "id": "f8d47e33-33f1-4b01-8592-7b0eee635f5e",
   "metadata": {},
   "outputs": [],
   "source": [
    "import numpy as np\n",
    "import pandas as pd\n",
    "import matplotlib.pyplot as plt\n",
    "import tensorflow as tf\n",
    "from tensorflow.keras.models import Sequential\n",
    "from tensorflow.keras.layers import Dense, Conv1D, Dropout, MaxPool1D, ReLU, Flatten\n",
    "from tensorflow.keras.callbacks import EarlyStopping, ReduceLROnPlateau\n",
    "from sklearn.preprocessing import StandardScaler\n",
    "from sklearn.model_selection import train_test_split\n",
    "from sklearn.utils import shuffle"
   ]
  },
  {
   "cell_type": "code",
   "execution_count": 16,
   "id": "1915adf0-9d48-4bcc-8996-6ef098349e58",
   "metadata": {},
   "outputs": [],
   "source": [
    "no_of_merged_samples = 5000\n",
    "no_of_params = 2"
   ]
  },
  {
   "cell_type": "code",
   "execution_count": 17,
   "id": "af704db3-04f4-4d54-98e7-4c460f80dc99",
   "metadata": {},
   "outputs": [],
   "source": [
    "#signal_bbh_df = pd.read_csv(\"C:/Users/sunda/Documents/Github/Gravitational Wave Detection/scripts/raw-data-files/Final_BBH_Merged_Noise_Signal_Reduced_No_ABS.csv\", header=None)\n",
    "#signal_bbh = signal_bbh_df.astype(float)\n",
    "\n",
    "#noise_df = pd.read_csv(\"C:/Users/sunda/Documents/Github/Gravitational Wave Detection/scripts/raw-data-files/Final_Merged_Noise_Reduced_No_Abs.csv\",header = None)\n",
    "#noise = noise_df.astype(float)\n",
    "\n",
    "#val_signal_df = pd.read_csv(\"C:/Users/sunda/Documents/Github/Gravitational Wave Detection/scripts/raw-val-data-files/val_Final_BBH_Merged_Noise_Signal_Reduced_No_ABS.csv\", header = None)\n",
    "#val_signal_bbh = val_signal_df.astype(float)\n",
    "\n",
    "#val_noise_df = pd.read_csv(\"C:/Users/sunda/Documents/Github/Gravitational Wave Detection/scripts/raw-val-data-files/val_Final_Merged_Noise_Reduced_No_Abs.csv\", header = None)\n",
    "#val_noise = val_noise_df.astype(float)\n",
    "\n",
    "\n",
    "signal_bbh = pd.read_csv(\"C:/Users/sunda/Documents/Github/Gravitational Wave Detection/scripts/raw-data-files-enhanced-data-generation/Final_BBH_Merged_Noise_Signal_Reduced_No_ABS.csv\", header=None).astype(float)\n",
    "noise = pd.read_csv(\"C:/Users/sunda/Documents/Github/Gravitational Wave Detection/scripts/raw-data-files-enhanced-data-generation/Final_Merged_Noise_Reduced_No_Abs.csv\", header=None).astype(float)\n",
    "val_signal_bbh = pd.read_csv(\"C:/Users/sunda/Documents/Github/Gravitational Wave Detection/scripts/raw-val-data-files-enhanced-data-generation/val_Final_BBH_Merged_Noise_Signal_Reduced_No_ABS.csv\", header=None).astype(float)\n",
    "val_noise = pd.read_csv(\"C:/Users/sunda/Documents/Github/Gravitational Wave Detection/scripts/raw-val-data-files-enhanced-data-generation/val_Final_Merged_Noise_Reduced_No_Abs.csv\", header=None).astype(float)\n"
   ]
  },
  {
   "cell_type": "code",
   "execution_count": 18,
   "id": "33224bf0-e48a-47f8-ac46-f0ca48decca5",
   "metadata": {},
   "outputs": [
    {
     "name": "stdout",
     "output_type": "stream",
     "text": [
      "(5000, 16384)\n",
      "(5000, 16384)\n",
      "(1000, 16384)\n",
      "(1000, 16384)\n"
     ]
    }
   ],
   "source": [
    "print(signal_bbh.shape)\n",
    "print(noise.shape)\n",
    "print(val_signal_bbh.shape)\n",
    "print(val_noise.shape)"
   ]
  },
  {
   "cell_type": "code",
   "execution_count": 19,
   "id": "d27ce410-be90-44a1-b2c4-74b4cb8f8e27",
   "metadata": {},
   "outputs": [],
   "source": [
    "signal_bbh['label'] = 1\n",
    "noise['label'] = 0\n",
    "val_signal_bbh['label'] = 1\n",
    "val_noise['label'] = 0"
   ]
  },
  {
   "cell_type": "code",
   "execution_count": 20,
   "id": "2e2aaf0b-ce69-4dfe-9482-a0fd49482cc4",
   "metadata": {},
   "outputs": [],
   "source": [
    "combined_data = pd.concat([signal_bbh, noise], axis = 0).reset_index(drop = True)\n",
    "combined_val_data = pd.concat([val_signal_bbh, val_noise], axis = 0).reset_index(drop = True)"
   ]
  },
  {
   "cell_type": "code",
   "execution_count": 21,
   "id": "927570ff-1b27-426f-a96d-7323d1957f77",
   "metadata": {},
   "outputs": [],
   "source": [
    "shuffled_data = shuffle(combined_data, random_state=42)\n",
    "shuffled_val_data = shuffle(combined_val_data, random_state=42)"
   ]
  },
  {
   "cell_type": "code",
   "execution_count": 8,
   "id": "9dcdde0f-1b65-419b-966a-cd864f701f63",
   "metadata": {},
   "outputs": [],
   "source": [
    "shuffled_data.to_csv(\"C:/Users/sunda/Documents/Github/Gravitational Wave Detection/scripts/raw-data-files/Final_Shuffled_Data.csv\", index=False, header=False)\n",
    "shuffled_val_data.to_csv(\"C:/Users/sunda/Documents/Github/Gravitational Wave Detection/scripts/raw-data-files/Final_Shuffled_Val_Data.csv\", index=False, header=False)"
   ]
  },
  {
   "cell_type": "code",
   "execution_count": 22,
   "id": "95bfffae-1bd4-4a70-bf09-7d8626956f92",
   "metadata": {},
   "outputs": [],
   "source": [
    "X = shuffled_data.iloc[:, :-1] \n",
    "#X *= 1e19\n",
    "scaler = StandardScaler()\n",
    "X = scaler.fit_transform(X)\n",
    "y = shuffled_data.iloc[:, -1]    \n",
    "\n",
    "X_v = shuffled_val_data.iloc[:, :-1]\n",
    "X_v = scaler.transform(X_v)\n",
    "y_v = shuffled_val_data.iloc[:, -1]"
   ]
  },
  {
   "cell_type": "code",
   "execution_count": 23,
   "id": "fcce2928-546b-42f6-bb2f-102c29d8f66e",
   "metadata": {},
   "outputs": [],
   "source": [
    "X_train, _, y_train, _ = train_test_split(X, y, test_size=1) #, random_state=1\n",
    "X_val, _, y_val, _     = train_test_split(X_v , y_v, test_size=1) #, random_state=1"
   ]
  },
  {
   "cell_type": "code",
   "execution_count": 24,
   "id": "bdd8209e-2393-47c0-ac83-0ac91127e20c",
   "metadata": {},
   "outputs": [],
   "source": [
    "model = Sequential()\n",
    "model.add(Conv1D(16, 16, input_shape=(16384, 1)))\n",
    "model.add(MaxPool1D(4, 4))\n",
    "model.add(ReLU())\n",
    "model.add(Dropout(0.2))\n",
    "model.add(Conv1D(32, 8))\n",
    "model.add(MaxPool1D(4, 4))\n",
    "model.add(ReLU())\n",
    "model.add(Dropout(0.2))\n",
    "model.add(Conv1D(64, 8))\n",
    "model.add(MaxPool1D(4, 4))\n",
    "model.add(ReLU())\n",
    "model.add(Dropout(0.2))\n",
    "model.add(Conv1D(128, 8))\n",
    "model.add(MaxPool1D(4, 4))\n",
    "model.add(ReLU())\n",
    "model.add(Flatten())\n",
    "model.add(Dense(64, activation='relu'))\n",
    "model.add(Dense(1, activation='sigmoid')) # ✅ Only 1 output neuron\n",
    "\n",
    "model.compile(optimizer='adam', loss='binary_crossentropy', metrics=['accuracy'])"
   ]
  },
  {
   "cell_type": "code",
   "execution_count": 25,
   "id": "c222d8da-5d9a-4798-8a86-c539bb9387ef",
   "metadata": {},
   "outputs": [
    {
     "name": "stdout",
     "output_type": "stream",
     "text": [
      "Model: \"sequential_1\"\n",
      "_________________________________________________________________\n",
      " Layer (type)                Output Shape              Param #   \n",
      "=================================================================\n",
      " conv1d_4 (Conv1D)           (None, 16369, 16)         272       \n",
      "                                                                 \n",
      " max_pooling1d_4 (MaxPoolin  (None, 4092, 16)          0         \n",
      " g1D)                                                            \n",
      "                                                                 \n",
      " re_lu_4 (ReLU)              (None, 4092, 16)          0         \n",
      "                                                                 \n",
      " dropout_3 (Dropout)         (None, 4092, 16)          0         \n",
      "                                                                 \n",
      " conv1d_5 (Conv1D)           (None, 4085, 32)          4128      \n",
      "                                                                 \n",
      " max_pooling1d_5 (MaxPoolin  (None, 1021, 32)          0         \n",
      " g1D)                                                            \n",
      "                                                                 \n",
      " re_lu_5 (ReLU)              (None, 1021, 32)          0         \n",
      "                                                                 \n",
      " dropout_4 (Dropout)         (None, 1021, 32)          0         \n",
      "                                                                 \n",
      " conv1d_6 (Conv1D)           (None, 1014, 64)          16448     \n",
      "                                                                 \n",
      " max_pooling1d_6 (MaxPoolin  (None, 253, 64)           0         \n",
      " g1D)                                                            \n",
      "                                                                 \n",
      " re_lu_6 (ReLU)              (None, 253, 64)           0         \n",
      "                                                                 \n",
      " dropout_5 (Dropout)         (None, 253, 64)           0         \n",
      "                                                                 \n",
      " conv1d_7 (Conv1D)           (None, 246, 128)          65664     \n",
      "                                                                 \n",
      " max_pooling1d_7 (MaxPoolin  (None, 61, 128)           0         \n",
      " g1D)                                                            \n",
      "                                                                 \n",
      " re_lu_7 (ReLU)              (None, 61, 128)           0         \n",
      "                                                                 \n",
      " flatten_1 (Flatten)         (None, 7808)              0         \n",
      "                                                                 \n",
      " dense_2 (Dense)             (None, 64)                499776    \n",
      "                                                                 \n",
      " dense_3 (Dense)             (None, 1)                 65        \n",
      "                                                                 \n",
      "=================================================================\n",
      "Total params: 586353 (2.24 MB)\n",
      "Trainable params: 586353 (2.24 MB)\n",
      "Non-trainable params: 0 (0.00 Byte)\n",
      "_________________________________________________________________\n"
     ]
    }
   ],
   "source": [
    "model.summary()"
   ]
  },
  {
   "cell_type": "code",
   "execution_count": 26,
   "id": "c282c48d-f40e-41b5-a4c2-dc039b55472d",
   "metadata": {},
   "outputs": [
    {
     "name": "stdout",
     "output_type": "stream",
     "text": [
      "Epoch 1/20\n",
      "625/625 [==============================] - 10s 13ms/step - loss: 0.4012 - accuracy: 0.7428 - val_loss: 0.1262 - val_accuracy: 0.9630\n",
      "Epoch 2/20\n",
      "625/625 [==============================] - 8s 12ms/step - loss: 0.0796 - accuracy: 0.9715 - val_loss: 0.1150 - val_accuracy: 0.9705\n",
      "Epoch 3/20\n",
      "625/625 [==============================] - 8s 13ms/step - loss: 0.0680 - accuracy: 0.9766 - val_loss: 0.1268 - val_accuracy: 0.9625\n",
      "Epoch 4/20\n",
      "625/625 [==============================] - 9s 14ms/step - loss: 0.0532 - accuracy: 0.9815 - val_loss: 0.1200 - val_accuracy: 0.9665\n",
      "Epoch 5/20\n",
      "625/625 [==============================] - 10s 16ms/step - loss: 0.0532 - accuracy: 0.9825 - val_loss: 0.1305 - val_accuracy: 0.9710\n"
     ]
    }
   ],
   "source": [
    "if X_train.ndim == 2:\n",
    "    X_train = np.expand_dims(X_train, axis=-1)\n",
    "if X_val.ndim == 2:\n",
    "    X_val = np.expand_dims(X_val, axis=-1)\n",
    "\n",
    "y_train = y_train.astype(np.float32)\n",
    "y_val = y_val.astype(np.float32)\n",
    "\n",
    "early_stop = EarlyStopping(monitor='val_loss', patience=3, restore_best_weights=True)\n",
    "\n",
    "model.compile(optimizer='adam', loss='binary_crossentropy', metrics=['accuracy'])\n",
    "history = model.fit(X_train, y_train,\n",
    "                    validation_data=(X_val, y_val),\n",
    "                    batch_size=16, epochs=20,\n",
    "                    callbacks=[early_stop])"
   ]
  },
  {
   "cell_type": "code",
   "execution_count": 27,
   "id": "3d58db6b-4c8f-4ac5-a48e-ebaf640d7d52",
   "metadata": {},
   "outputs": [
    {
     "name": "stdout",
     "output_type": "stream",
     "text": [
      "63/63 [==============================] - 1s 9ms/step - loss: 0.1150 - accuracy: 0.9705\n",
      "✅ Validation Accuracy: 97.05%\n"
     ]
    }
   ],
   "source": [
    "loss, accuracy = model.evaluate(X_val, y_val)\n",
    "print(f\"✅ Validation Accuracy: {accuracy * 100:.2f}%\")"
   ]
  },
  {
   "cell_type": "code",
   "execution_count": null,
   "id": "c9a954f4-1a22-4d8b-86ec-0e01c9ca0fbc",
   "metadata": {},
   "outputs": [],
   "source": []
  },
  {
   "cell_type": "code",
   "execution_count": null,
   "id": "c283a9e4-465f-4031-a7b0-bb239d0ffd14",
   "metadata": {},
   "outputs": [],
   "source": []
  },
  {
   "cell_type": "code",
   "execution_count": null,
   "id": "69e7fa4d-6d63-4a2f-8dee-50f6cc8d7879",
   "metadata": {},
   "outputs": [],
   "source": []
  },
  {
   "cell_type": "code",
   "execution_count": null,
   "id": "fd51cf2b-a7bd-4b30-8be1-538af29df0a4",
   "metadata": {},
   "outputs": [],
   "source": []
  },
  {
   "cell_type": "code",
   "execution_count": 13,
   "id": "7eefe267-0d57-4a9e-9a8e-2cbdcc2ef30d",
   "metadata": {},
   "outputs": [
    {
     "data": {
      "text/plain": [
       "(9999, 16384)"
      ]
     },
     "execution_count": 13,
     "metadata": {},
     "output_type": "execute_result"
    }
   ],
   "source": []
  },
  {
   "cell_type": "code",
   "execution_count": null,
   "id": "536a9ae6-65cd-41fa-893a-72b67d822e27",
   "metadata": {},
   "outputs": [],
   "source": []
  }
 ],
 "metadata": {
  "kernelspec": {
   "display_name": "Python 3 (ipykernel)",
   "language": "python",
   "name": "python3"
  },
  "language_info": {
   "codemirror_mode": {
    "name": "ipython",
    "version": 3
   },
   "file_extension": ".py",
   "mimetype": "text/x-python",
   "name": "python",
   "nbconvert_exporter": "python",
   "pygments_lexer": "ipython3",
   "version": "3.8.10"
  }
 },
 "nbformat": 4,
 "nbformat_minor": 5
}
