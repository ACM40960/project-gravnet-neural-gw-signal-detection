{
 "cells": [
  {
   "cell_type": "code",
   "execution_count": 9,
   "id": "8105f4d8-fbcc-479b-93a7-5f4ec66ba3f6",
   "metadata": {},
   "outputs": [
    {
     "name": "stderr",
     "output_type": "stream",
     "text": [
      "/usr/local/lib/python3.8/dist-packages/pycbc/scheme.py:194: RuntimeWarning: divide by zero encountered in divide\n",
      "  return _import_cache[mgr.state][func](*args, **kwds)\n",
      "/usr/local/lib/python3.8/dist-packages/pycbc/scheme.py:194: RuntimeWarning: invalid value encountered in divide\n",
      "  return _import_cache[mgr.state][func](*args, **kwds)\n"
     ]
    }
   ],
   "source": [
    "from pycbc import distributions\n",
    "from pycbc.waveform import get_td_waveform\n",
    "from pycbc.filter import sigma\n",
    "from pycbc.psd import aLIGOZeroDetHighPower\n",
    "import pycbc.noise\n",
    "import numpy as np\n",
    "from gwpy.timeseries import TimeSeries\n",
    "from tqdm import tqdm\n",
    "import os\n",
    "\n",
    "# === Parameters ===\n",
    "n_samples = 5000\n",
    "fs = 4096\n",
    "duration = 4.0\n",
    "delta_t = 1.0 / fs\n",
    "tsamples = int(duration * fs)\n",
    "flow = 30.0\n",
    "target_snr_range = (5, 8)\n",
    "\n",
    "# === Output directories ===\n",
    "base_dir = \"C:/Users/sunda/Documents/Github/Gravitational Wave Detection/scripts/raw-data-files-enhanced-data-generation/\"\n",
    "dirs = {\n",
    "    \"signal\": os.path.join(base_dir, \"BBH/\"),\n",
    "    \"noise\": os.path.join(base_dir, \"noise_template/\"),\n",
    "    \"injected\": os.path.join(base_dir, \"noise-injected-signal/\")\n",
    "}\n",
    "for d in dirs.values():\n",
    "    os.makedirs(d, exist_ok=True)\n",
    "\n",
    "# === PSD for colored noise generation (fixed) ===\n",
    "delta_f_noise = 1.0 / duration  # 0.25 Hz\n",
    "flen_noise = int(2048 / delta_f_noise) + 1\n",
    "psd_noise = aLIGOZeroDetHighPower(flen_noise, delta_f_noise, flow)\n",
    "psd_noise[psd_noise == 0] = 1e-40\n",
    "psd_noise = pycbc.types.FrequencySeries(psd_noise, delta_f=delta_f_noise)\n",
    "\n",
    "# === Mass distribution ===\n",
    "mass_dist = distributions.Uniform(mass1=(10, 100), mass2=(10, 100))\n",
    "\n",
    "# === Injection loop ===\n",
    "valid_count = 0\n",
    "max_attempts = 10000\n",
    "i = 0\n",
    "\n",
    "while valid_count < n_samples and i < max_attempts:\n",
    "    try:\n",
    "        # Sample random BBH masses\n",
    "        m1, m2 = mass_dist.rvs(size=1)[0]\n",
    "        distance = 1\n",
    "        inclination = np.random.uniform(0, np.pi)\n",
    "        spin1z = np.random.uniform(-0.99, 0.99)\n",
    "        spin2z = np.random.uniform(-0.99, 0.99)\n",
    "\n",
    "        # Generate waveform\n",
    "        hp, _ = get_td_waveform(approximant=\"SEOBNRv2\",\n",
    "                                mass1=m1,\n",
    "                                mass2=m2,\n",
    "                                delta_t=delta_t,\n",
    "                                f_lower=40.0,\n",
    "                                distance=distance,\n",
    "                                inclination=inclination,\n",
    "                                spin1z=spin1z,\n",
    "                                spin2z=spin2z)\n",
    "\n",
    "        # Frequency domain waveform\n",
    "        ht = hp.to_frequencyseries()\n",
    "\n",
    "        # === NEW: PSD for SNR scaling (match delta_f) ===\n",
    "        delta_f_sigma = ht.delta_f\n",
    "        flen_sigma = int(2048 / delta_f_sigma) + 1\n",
    "        psd_sigma = aLIGOZeroDetHighPower(flen_sigma, delta_f_sigma, flow)\n",
    "        psd_sigma[psd_sigma == 0] = 1e-40\n",
    "        psd_sigma = pycbc.types.FrequencySeries(psd_sigma, delta_f=delta_f_sigma)\n",
    "\n",
    "        # Calculate original SNR\n",
    "        snr_orig = sigma(ht, psd=psd_sigma, low_frequency_cutoff=40.0)\n",
    "\n",
    "        if not np.isfinite(snr_orig) or snr_orig == 0:\n",
    "            i += 1\n",
    "            continue\n",
    "\n",
    "        # Random target SNR and scale\n",
    "        target_snr = np.random.randint(*target_snr_range)\n",
    "        hp *= target_snr / snr_orig\n",
    "\n",
    "        # Generate colored noise using fixed PSD\n",
    "        noise = pycbc.noise.noise_from_psd(tsamples, delta_t, psd_noise)\n",
    "        noise_ts = TimeSeries.from_pycbc(noise)\n",
    "\n",
    "        # Convert waveform to TimeSeries and shift to injection time\n",
    "        signal_ts = TimeSeries.from_pycbc(hp)\n",
    "        injection_time = np.random.choice([1, 1.5, 2, 2.5, 3])\n",
    "        signal_ts.t0 = injection_time\n",
    "\n",
    "        # Inject signal into noise\n",
    "        injected_ts = noise_ts.inject(signal_ts)\n",
    "\n",
    "        # Save all components\n",
    "        signal_ts.write(os.path.join(dirs[\"signal\"], f\"bbh_4k_{valid_count}.txt\"))\n",
    "        noise_ts.write(os.path.join(dirs[\"noise\"], f\"noise_4k_{valid_count}.txt\"))\n",
    "        injected_ts.write(os.path.join(dirs[\"injected\"], f\"merged_noise_signal_{valid_count}.txt\"))\n",
    "\n",
    "        valid_count += 1\n",
    "\n",
    "    except Exception as e:\n",
    "        print(f\"Skipping sample {i}: {e}\")\n",
    "\n",
    "    i += 1\n",
    "\n",
    "if valid_count < n_samples:\n",
    "    print(f\"⚠️ Only generated {valid_count} samples after {max_attempts} attempts.\")\n"
   ]
  },
  {
   "cell_type": "code",
   "execution_count": null,
   "id": "06b2330b-2c41-462b-9dc0-83d2ad99dedb",
   "metadata": {},
   "outputs": [],
   "source": []
  },
  {
   "cell_type": "code",
   "execution_count": null,
   "id": "e73b976b-8155-4b77-99d5-4af3c4919e07",
   "metadata": {},
   "outputs": [],
   "source": []
  },
  {
   "cell_type": "code",
   "execution_count": null,
   "id": "2e5cb8a7-70ce-42a1-a9fa-b8a492308b46",
   "metadata": {},
   "outputs": [],
   "source": []
  },
  {
   "cell_type": "code",
   "execution_count": 10,
   "id": "fb88a153-93c8-4d84-b295-025a5a808e32",
   "metadata": {},
   "outputs": [
    {
     "name": "stdout",
     "output_type": "stream",
     "text": [
      "✅ Validation dataset generation complete.\n"
     ]
    }
   ],
   "source": [
    "from pycbc import distributions\n",
    "from pycbc.waveform import get_td_waveform\n",
    "from pycbc.filter import sigma\n",
    "from pycbc.psd import aLIGOZeroDetHighPower\n",
    "import pycbc.noise\n",
    "import numpy as np\n",
    "from gwpy.timeseries import TimeSeries\n",
    "from tqdm import tqdm\n",
    "import os\n",
    "\n",
    "# === Parameters ===\n",
    "n_val_samples = 1000\n",
    "fs = 4096\n",
    "duration = 4.0\n",
    "delta_t = 1.0 / fs\n",
    "tsamples = int(duration * fs)\n",
    "flow = 30.0\n",
    "snr_range = (4, 10)\n",
    "\n",
    "# === Directories ===\n",
    "val_dir = \"C:/Users/sunda/Documents/Github/Gravitational Wave Detection/scripts/raw-val-data-files-enhanced-data-generation/\"\n",
    "dirs = {\n",
    "    \"noise\": os.path.join(val_dir, \"noise\"),\n",
    "    \"injected\": os.path.join(val_dir, \"injected\")\n",
    "}\n",
    "for d in dirs.values():\n",
    "    os.makedirs(d, exist_ok=True)\n",
    "\n",
    "# === Shared PSD for noise generation ===\n",
    "delta_f_noise = 1.0 / duration\n",
    "flen_noise = int(2048 / delta_f_noise) + 1\n",
    "shared_psd = aLIGOZeroDetHighPower(flen_noise, delta_f_noise, flow)\n",
    "shared_psd[shared_psd == 0] = 1e-40\n",
    "shared_psd = pycbc.types.FrequencySeries(shared_psd, delta_f=delta_f_noise)\n",
    "\n",
    "# === Mass distribution ===\n",
    "mass_dist = distributions.Uniform(mass1=(10, 50), mass2=(10, 50))\n",
    "mass_samples = mass_dist.rvs(size=n_val_samples)\n",
    "\n",
    "# === Generation loop ===\n",
    "generated = 0\n",
    "attempts = 0\n",
    "max_attempts = 3000  # Safety cap\n",
    "\n",
    "while generated < n_val_samples and attempts < max_attempts:\n",
    "    attempts += 1\n",
    "    try:\n",
    "        # === Sample masses and SNR dynamically ===\n",
    "        m1, m2 = np.random.uniform(10, 50, size=2)\n",
    "        target_snr = np.random.randint(*snr_range)\n",
    "        distance = 1 \n",
    "        inclination = np.random.uniform(0, np.pi)\n",
    "        spin1z = np.random.uniform(-0.99, 0.99)\n",
    "        spin2z = np.random.uniform(-0.99, 0.99)\n",
    "\n",
    "        # Generate waveform\n",
    "        hp, _ = get_td_waveform(approximant=\"SEOBNRv2\",\n",
    "                                mass1=m1,\n",
    "                                mass2=m2,\n",
    "                                delta_t=delta_t,\n",
    "                                f_lower=40.0,\n",
    "                                distance=distance,\n",
    "                                inclination=inclination,\n",
    "                                spin1z=spin1z,\n",
    "                                spin2z=spin2z)\n",
    "\n",
    "        # PSD for scaling (matched to waveform length)\n",
    "        delta_f_wave = 1.0 / hp.duration\n",
    "        flen_wave = int(2048 / delta_f_wave) + 1\n",
    "        psd_wave = aLIGOZeroDetHighPower(flen_wave, delta_f_wave, flow)\n",
    "        psd_wave[psd_wave == 0] = 1e-40\n",
    "        psd_wave = pycbc.types.FrequencySeries(psd_wave, delta_f=delta_f_wave)\n",
    "\n",
    "        ht = hp.to_frequencyseries()\n",
    "        snr_orig = sigma(ht, psd=psd_wave, low_frequency_cutoff=40.0)\n",
    "\n",
    "        if not np.isfinite(snr_orig) or snr_orig == 0:\n",
    "            continue\n",
    "\n",
    "        hp *= target_snr / snr_orig\n",
    "\n",
    "        noise = pycbc.noise.noise_from_psd(tsamples, delta_t, shared_psd)\n",
    "        noise_ts = TimeSeries.from_pycbc(noise)\n",
    "\n",
    "        signal_ts = TimeSeries.from_pycbc(hp)\n",
    "        injection_time = np.random.choice([1, 1.5, 2, 2.5, 3])\n",
    "        signal_ts.t0 = injection_time\n",
    "\n",
    "        injected_ts = noise_ts.inject(signal_ts)\n",
    "\n",
    "        # Save\n",
    "        noise_ts.write(f\"{dirs['noise']}/val_noise_{generated}.txt\")\n",
    "        injected_ts.write(f\"{dirs['injected']}/val_injected_{generated}.txt\")\n",
    "\n",
    "        generated += 1\n",
    "\n",
    "    except Exception as e:\n",
    "        print(f\"⚠️ Skipping sample {generated} (attempt {attempts}): {e}\")\n",
    "\n",
    "if generated < n_val_samples:\n",
    "    print(f\"⚠️ Only generated {generated} samples after {attempts} attempts.\")\n",
    "else:\n",
    "    print(\"✅ Validation dataset generation complete.\")\n"
   ]
  },
  {
   "cell_type": "code",
   "execution_count": null,
   "id": "7a41211d-be57-48bb-bccb-b704e5c2686b",
   "metadata": {},
   "outputs": [],
   "source": []
  },
  {
   "cell_type": "code",
   "execution_count": 11,
   "id": "5ef9592f-acf4-4ffc-b9b6-3d7a9cf248ce",
   "metadata": {},
   "outputs": [],
   "source": [
    "import csv\n",
    "import pandas as pd"
   ]
  },
  {
   "cell_type": "code",
   "execution_count": 12,
   "id": "86e9b227-22a5-4ecf-95bf-5da0d005ada5",
   "metadata": {},
   "outputs": [
    {
     "name": "stderr",
     "output_type": "stream",
     "text": [
      "100%|██████████| 5000/5000 [09:40<00:00,  8.62it/s] \n"
     ]
    }
   ],
   "source": [
    "#Merging the injected signal into single CSV file\n",
    "path = \"C:/Users/sunda/Documents/Github/Gravitational Wave Detection/scripts/raw-data-files-enhanced-data-generation/noise-injected-signal/\"\n",
    "files= os.listdir(path)\n",
    "f = open(\"C:/Users/sunda/Documents/Github/Gravitational Wave Detection/scripts/raw-data-files-enhanced-data-generation/Final_BBH_Merged_Noise_Signal_Reduced_No_ABS.csv\", 'w')\n",
    "cw = csv.writer(f)\n",
    "\n",
    "for i in tqdm(files):\n",
    "    df = pd.read_csv(path+i,sep = ' ', header=None)\n",
    "    c = df[:][1]\n",
    "    cw.writerow(c)\n",
    "f.close()"
   ]
  },
  {
   "cell_type": "code",
   "execution_count": 13,
   "id": "52949a4e-7c9a-4648-a4f9-5b18fbf09c40",
   "metadata": {},
   "outputs": [
    {
     "name": "stderr",
     "output_type": "stream",
     "text": [
      "100%|██████████| 5000/5000 [08:44<00:00,  9.54it/s]\n"
     ]
    }
   ],
   "source": [
    "#Merging the noise into single CSV file\n",
    "path = \"C:/Users/sunda/Documents/Github/Gravitational Wave Detection/scripts/raw-data-files-enhanced-data-generation/noise_template/\"\n",
    "files= os.listdir(path)\n",
    "f = open(\"C:/Users/sunda/Documents/Github/Gravitational Wave Detection/scripts/raw-data-files-enhanced-data-generation/Final_Merged_Noise_Reduced_No_Abs.csv\", 'w')\n",
    "cw = csv.writer(f)\n",
    "\n",
    "for i in tqdm(files):\n",
    "    df = pd.read_csv(path+i,sep = ' ', header=None)\n",
    "    if 1 in df.columns:\n",
    "        c = df[1]\n",
    "    else:\n",
    "        c = df[0]\n",
    "    #c = df[:][1]\n",
    "    cw.writerow(c)\n",
    "f.close()"
   ]
  },
  {
   "cell_type": "code",
   "execution_count": 14,
   "id": "8afde91c-52a3-41dc-b56e-1315f9641713",
   "metadata": {},
   "outputs": [
    {
     "name": "stderr",
     "output_type": "stream",
     "text": [
      "100%|██████████| 5000/5000 [01:44<00:00, 47.85it/s] \n"
     ]
    }
   ],
   "source": [
    "#Merging the signal into single CSV file\n",
    "path = \"C:/Users/sunda/Documents/Github/Gravitational Wave Detection/scripts/raw-data-files-enhanced-data-generation/BBH/\"\n",
    "files= os.listdir(path)\n",
    "f = open(\"C:/Users/sunda/Documents/Github/Gravitational Wave Detection/scripts/raw-data-files-enhanced-data-generation/Final_Merged_bbh_Signal_Reduced_No_Abs.csv\", 'w')\n",
    "cw = csv.writer(f)\n",
    "\n",
    "for i in tqdm(files):\n",
    "    df = pd.read_csv(path+i,sep = ' ', header=None)\n",
    "    c = df[:][1]\n",
    "    cw.writerow(c)\n",
    "f.close()"
   ]
  },
  {
   "cell_type": "code",
   "execution_count": 15,
   "id": "81c8d6d4-f5c9-44d7-97f1-e44d81104e1e",
   "metadata": {},
   "outputs": [
    {
     "name": "stderr",
     "output_type": "stream",
     "text": [
      "100%|██████████| 1000/1000 [02:16<00:00,  7.33it/s]\n"
     ]
    }
   ],
   "source": [
    "path = val_dir+\"injected/\"\n",
    "files= os.listdir(path)\n",
    "f = open(val_dir+'val_Final_BBH_Merged_Noise_Signal_Reduced_No_ABS.csv', 'w')\n",
    "cw = csv.writer(f)\n",
    "\n",
    "for i in tqdm(files):\n",
    "    df = pd.read_csv(path+i,sep = ' ', header=None)\n",
    "    c = df[:][1]\n",
    "    cw.writerow(c)\n",
    "f.close()"
   ]
  },
  {
   "cell_type": "code",
   "execution_count": 16,
   "id": "3e828b2d-2a5f-4b19-8b67-7feb75131f6c",
   "metadata": {},
   "outputs": [
    {
     "name": "stderr",
     "output_type": "stream",
     "text": [
      "100%|██████████| 1000/1000 [02:23<00:00,  6.98it/s]\n"
     ]
    }
   ],
   "source": [
    "path_1 = val_dir+\"noise/\"\n",
    "files_1= os.listdir(path_1)\n",
    "f1 = open(val_dir+'val_Final_Merged_Noise_Reduced_No_Abs.csv', 'w')\n",
    "cw_1 = csv.writer(f1)\n",
    "\n",
    "for i in tqdm(files_1):\n",
    "    #print(files)\n",
    "    df = pd.read_csv(path_1+i,sep = ' ', header=None)\n",
    "    c = df[:][1]\n",
    "    cw_1.writerow(c)\n",
    "f1.close()"
   ]
  },
  {
   "cell_type": "code",
   "execution_count": null,
   "id": "1ca498e3-5693-431c-b020-068a667f0aee",
   "metadata": {},
   "outputs": [],
   "source": []
  },
  {
   "cell_type": "code",
   "execution_count": null,
   "id": "66cc5443-aaaa-4bd0-92e8-59e1999a2e9e",
   "metadata": {},
   "outputs": [],
   "source": []
  },
  {
   "cell_type": "code",
   "execution_count": null,
   "id": "15112589-1eca-481e-89a5-51346d0722d0",
   "metadata": {},
   "outputs": [],
   "source": []
  },
  {
   "cell_type": "code",
   "execution_count": null,
   "id": "74a8604e-abe6-4b9e-9026-8d144a20f58c",
   "metadata": {},
   "outputs": [],
   "source": []
  },
  {
   "cell_type": "code",
   "execution_count": 1,
   "id": "72d2a4cf-6052-4425-9b3f-d04f9aff0b21",
   "metadata": {},
   "outputs": [
    {
     "name": "stderr",
     "output_type": "stream",
     "text": [
      "2025-07-24 14:34:21.334235: I tensorflow/core/util/port.cc:110] oneDNN custom operations are on. You may see slightly different numerical results due to floating-point round-off errors from different computation orders. To turn them off, set the environment variable `TF_ENABLE_ONEDNN_OPTS=0`.\n",
      "2025-07-24 14:34:21.607977: I tensorflow/core/platform/cpu_feature_guard.cc:182] This TensorFlow binary is optimized to use available CPU instructions in performance-critical operations.\n",
      "To enable the following instructions: AVX2 AVX_VNNI FMA, in other operations, rebuild TensorFlow with the appropriate compiler flags.\n",
      "2025-07-24 14:36:39.530739: I tensorflow/compiler/xla/stream_executor/cuda/cuda_gpu_executor.cc:981] could not open file to read NUMA node: /sys/bus/pci/devices/0000:01:00.0/numa_node\n",
      "Your kernel may have been built without NUMA support.\n",
      "2025-07-24 14:36:39.571345: I tensorflow/compiler/xla/stream_executor/cuda/cuda_gpu_executor.cc:981] could not open file to read NUMA node: /sys/bus/pci/devices/0000:01:00.0/numa_node\n",
      "Your kernel may have been built without NUMA support.\n",
      "2025-07-24 14:36:39.571991: I tensorflow/compiler/xla/stream_executor/cuda/cuda_gpu_executor.cc:981] could not open file to read NUMA node: /sys/bus/pci/devices/0000:01:00.0/numa_node\n",
      "Your kernel may have been built without NUMA support.\n",
      "2025-07-24 14:36:39.577872: I tensorflow/compiler/xla/stream_executor/cuda/cuda_gpu_executor.cc:981] could not open file to read NUMA node: /sys/bus/pci/devices/0000:01:00.0/numa_node\n",
      "Your kernel may have been built without NUMA support.\n",
      "2025-07-24 14:36:39.578342: I tensorflow/compiler/xla/stream_executor/cuda/cuda_gpu_executor.cc:981] could not open file to read NUMA node: /sys/bus/pci/devices/0000:01:00.0/numa_node\n",
      "Your kernel may have been built without NUMA support.\n",
      "2025-07-24 14:36:39.578636: I tensorflow/compiler/xla/stream_executor/cuda/cuda_gpu_executor.cc:981] could not open file to read NUMA node: /sys/bus/pci/devices/0000:01:00.0/numa_node\n",
      "Your kernel may have been built without NUMA support.\n",
      "2025-07-24 14:36:39.778522: I tensorflow/compiler/xla/stream_executor/cuda/cuda_gpu_executor.cc:981] could not open file to read NUMA node: /sys/bus/pci/devices/0000:01:00.0/numa_node\n",
      "Your kernel may have been built without NUMA support.\n",
      "2025-07-24 14:36:39.778937: I tensorflow/compiler/xla/stream_executor/cuda/cuda_gpu_executor.cc:981] could not open file to read NUMA node: /sys/bus/pci/devices/0000:01:00.0/numa_node\n",
      "Your kernel may have been built without NUMA support.\n",
      "2025-07-24 14:36:39.778974: I tensorflow/core/common_runtime/gpu/gpu_device.cc:1726] Could not identify NUMA node of platform GPU id 0, defaulting to 0.  Your kernel may not have been built with NUMA support.\n",
      "2025-07-24 14:36:39.779338: I tensorflow/compiler/xla/stream_executor/cuda/cuda_gpu_executor.cc:981] could not open file to read NUMA node: /sys/bus/pci/devices/0000:01:00.0/numa_node\n",
      "Your kernel may have been built without NUMA support.\n",
      "2025-07-24 14:36:39.779468: I tensorflow/core/common_runtime/gpu/gpu_device.cc:1639] Created device /job:localhost/replica:0/task:0/device:GPU:0 with 3542 MB memory:  -> device: 0, name: NVIDIA GeForce RTX 4050 Laptop GPU, pci bus id: 0000:01:00.0, compute capability: 8.9\n"
     ]
    },
    {
     "name": "stdout",
     "output_type": "stream",
     "text": [
      "Epoch 1/30\n"
     ]
    },
    {
     "name": "stderr",
     "output_type": "stream",
     "text": [
      "2025-07-24 14:36:52.280101: I tensorflow/compiler/xla/stream_executor/cuda/cuda_dnn.cc:432] Loaded cuDNN version 8600\n",
      "2025-07-24 14:36:53.369775: I tensorflow/compiler/xla/stream_executor/cuda/cuda_blas.cc:606] TensorFloat-32 will be used for the matrix multiplication. This will only be logged once.\n",
      "2025-07-24 14:36:53.436533: I tensorflow/compiler/xla/service/service.cc:168] XLA service 0x76c98bcfa3a0 initialized for platform CUDA (this does not guarantee that XLA will be used). Devices:\n",
      "2025-07-24 14:36:53.436622: I tensorflow/compiler/xla/service/service.cc:176]   StreamExecutor device (0): NVIDIA GeForce RTX 4050 Laptop GPU, Compute Capability 8.9\n",
      "2025-07-24 14:36:53.464022: I tensorflow/compiler/mlir/tensorflow/utils/dump_mlir_util.cc:255] disabling MLIR crash reproducer, set env var `MLIR_CRASH_REPRODUCER_DIRECTORY` to enable.\n",
      "2025-07-24 14:36:53.658430: I ./tensorflow/compiler/jit/device_compiler.h:186] Compiled cluster using XLA!  This line is logged at most once for the lifetime of the process.\n"
     ]
    },
    {
     "name": "stdout",
     "output_type": "stream",
     "text": [
      "313/313 [==============================] - 28s 72ms/step - loss: 0.6022 - accuracy: 0.6605 - val_loss: 36.5590 - val_accuracy: 0.5000\n",
      "Epoch 2/30\n",
      "313/313 [==============================] - 19s 62ms/step - loss: 0.4556 - accuracy: 0.7933 - val_loss: 1.1221 - val_accuracy: 0.5625\n",
      "Epoch 3/30\n",
      "313/313 [==============================] - 22s 70ms/step - loss: 0.4025 - accuracy: 0.8238 - val_loss: 5.6981 - val_accuracy: 0.5000\n",
      "Epoch 4/30\n",
      "313/313 [==============================] - 43s 137ms/step - loss: 0.3790 - accuracy: 0.8362 - val_loss: 2.8794 - val_accuracy: 0.5010\n",
      "Epoch 5/30\n",
      "313/313 [==============================] - 68s 217ms/step - loss: 0.3496 - accuracy: 0.8521 - val_loss: 1.0619 - val_accuracy: 0.6070\n",
      "Epoch 6/30\n",
      "313/313 [==============================] - 70s 223ms/step - loss: 0.3338 - accuracy: 0.8576 - val_loss: 0.5034 - val_accuracy: 0.8015\n",
      "Epoch 7/30\n",
      "313/313 [==============================] - 71s 226ms/step - loss: 0.3124 - accuracy: 0.8704 - val_loss: 0.5048 - val_accuracy: 0.7620\n",
      "Epoch 8/30\n",
      "313/313 [==============================] - 70s 223ms/step - loss: 0.2973 - accuracy: 0.8747 - val_loss: 7.6542 - val_accuracy: 0.5000\n",
      "Epoch 9/30\n",
      "313/313 [==============================] - 69s 220ms/step - loss: 0.2690 - accuracy: 0.8901 - val_loss: 14.0008 - val_accuracy: 0.5000\n",
      "Epoch 10/30\n",
      "313/313 [==============================] - 67s 214ms/step - loss: 0.2676 - accuracy: 0.8927 - val_loss: 0.7295 - val_accuracy: 0.7875\n",
      "Epoch 11/30\n",
      "313/313 [==============================] - 71s 228ms/step - loss: 0.2487 - accuracy: 0.8962 - val_loss: 3.4351 - val_accuracy: 0.5180\n",
      "63/63 [==============================] - 3s 46ms/step\n",
      "ROC AUC Score: 0.875167\n",
      "              precision    recall  f1-score   support\n",
      "\n",
      "         0.0       0.74      0.93      0.82      1000\n",
      "         1.0       0.90      0.68      0.77      1000\n",
      "\n",
      "    accuracy                           0.80      2000\n",
      "   macro avg       0.82      0.80      0.80      2000\n",
      "weighted avg       0.82      0.80      0.80      2000\n",
      "\n"
     ]
    },
    {
     "data": {
      "image/png": "[encoded data removed]",
      "text/plain": [
       "<Figure size 640x480 with 1 Axes>"
      ]
     },
     "metadata": {},
     "output_type": "display_data"
    }
   ],
   "source": [
    "import numpy as np\n",
    "import pandas as pd\n",
    "import matplotlib.pyplot as plt\n",
    "import tensorflow as tf\n",
    "from tensorflow.keras.models import Model\n",
    "from tensorflow.keras.layers import (Input, Conv1D, BatchNormalization, ReLU, Dropout,\n",
    "                                     MaxPooling1D, GlobalAveragePooling1D, Dense, Add)\n",
    "from tensorflow.keras.callbacks import EarlyStopping\n",
    "from sklearn.preprocessing import StandardScaler\n",
    "from sklearn.utils import shuffle\n",
    "from sklearn.metrics import classification_report, roc_auc_score\n",
    "\n",
    "# === Load CSVs ===\n",
    "signal_bbh = pd.read_csv(\"C:/Users/sunda/Documents/Github/Gravitational Wave Detection/scripts/raw-data-files-enhanced-data-generation/Final_BBH_Merged_Noise_Signal_Reduced_No_ABS.csv\", header=None).astype(float)\n",
    "noise = pd.read_csv(\"C:/Users/sunda/Documents/Github/Gravitational Wave Detection/scripts/raw-data-files-enhanced-data-generation/Final_Merged_Noise_Reduced_No_Abs.csv\", header=None).astype(float)\n",
    "val_signal_bbh = pd.read_csv(\"C:/Users/sunda/Documents/Github/Gravitational Wave Detection/scripts/raw-val-data-files-enhanced-data-generation/val_Final_BBH_Merged_Noise_Signal_Reduced_No_ABS.csv\", header=None).astype(float)\n",
    "val_noise = pd.read_csv(\"C:/Users/sunda/Documents/Github/Gravitational Wave Detection/scripts/raw-val-data-files-enhanced-data-generation/val_Final_Merged_Noise_Reduced_No_Abs.csv\", header=None).astype(float)\n",
    "\n",
    "signal_bbh[\"label\"] = 1\n",
    "noise[\"label\"] = 0\n",
    "val_signal_bbh[\"label\"] = 1\n",
    "val_noise[\"label\"] = 0\n",
    "\n",
    "# === Merge, Shuffle, Scale ===\n",
    "train_data = shuffle(pd.concat([signal_bbh, noise], axis=0).reset_index(drop=True), random_state=42)\n",
    "val_data = shuffle(pd.concat([val_signal_bbh, val_noise], axis=0).reset_index(drop=True), random_state=42)\n",
    "\n",
    "scaler = StandardScaler()\n",
    "scaler.fit(noise.iloc[:, :-1])  # scale only on pure noise\n",
    "np.save(\"scaler_mean.npy\", scaler.mean_)\n",
    "np.save(\"scaler_scale.npy\", scaler.scale_)\n",
    "\n",
    "X_train = scaler.transform(train_data.iloc[:, :-1])\n",
    "y_train = train_data.iloc[:, -1].values.astype(np.float32)\n",
    "\n",
    "X_val = scaler.transform(val_data.iloc[:, :-1])\n",
    "y_val = val_data.iloc[:, -1].values.astype(np.float32)\n",
    "\n",
    "X_train = np.expand_dims(X_train, axis=-1)\n",
    "X_val = np.expand_dims(X_val, axis=-1)\n",
    "\n",
    "# === CNN Model Definition ===\n",
    "def build_deep_cnn(input_shape=(16384, 1)):\n",
    "    inputs = Input(shape=input_shape)\n",
    "\n",
    "    x = Conv1D(32, 16, padding='same')(inputs)\n",
    "    x = BatchNormalization()(x)\n",
    "    x = ReLU()(x)\n",
    "    x = MaxPooling1D(4)(x)\n",
    "\n",
    "    x = Conv1D(64, 8, padding='same')(x)\n",
    "    x = BatchNormalization()(x)\n",
    "    x = ReLU()(x)\n",
    "    x = MaxPooling1D(4)(x)\n",
    "\n",
    "    x = Conv1D(128, 8, padding='same')(x)\n",
    "    x = BatchNormalization()(x)\n",
    "    x = ReLU()(x)\n",
    "    x = MaxPooling1D(4)(x)\n",
    "    x = Dropout(0.3)(x)\n",
    "\n",
    "    x = Conv1D(256, 8, padding='same')(x)\n",
    "    x = BatchNormalization()(x)\n",
    "    x = ReLU()(x)\n",
    "    x = MaxPooling1D(4)(x)\n",
    "    x = Dropout(0.4)(x)\n",
    "\n",
    "    x = Conv1D(512, 4, padding='same')(x)\n",
    "    x = BatchNormalization()(x)\n",
    "    x = ReLU()(x)\n",
    "    x = GlobalAveragePooling1D()(x)\n",
    "\n",
    "    x = Dense(128, activation='relu')(x)\n",
    "    x = Dropout(0.4)(x)\n",
    "    outputs = Dense(1, activation='sigmoid')(x)\n",
    "\n",
    "    model = Model(inputs=inputs, outputs=outputs)\n",
    "    model.compile(optimizer='adam', loss='binary_crossentropy', metrics=['accuracy'])\n",
    "    return model\n",
    "\n",
    "# === Build & Train ===\n",
    "model = build_deep_cnn()\n",
    "early_stop = EarlyStopping(monitor='val_loss', patience=5, restore_best_weights=True)\n",
    "\n",
    "history = model.fit(\n",
    "    X_train, y_train,\n",
    "    validation_data=(X_val, y_val),\n",
    "    epochs=30,\n",
    "    batch_size=32,\n",
    "    callbacks=[early_stop],\n",
    "    verbose=1\n",
    ")\n",
    "\n",
    "# === Evaluate ===\n",
    "y_pred = model.predict(X_val).ravel()\n",
    "print(\"ROC AUC Score:\", roc_auc_score(y_val, y_pred))\n",
    "print(classification_report(y_val, (y_pred > 0.5).astype(int)))\n",
    "\n",
    "# === Plot Accuracy ===\n",
    "plt.plot(history.history['accuracy'], label='Train Acc')\n",
    "plt.plot(history.history['val_accuracy'], label='Val Acc')\n",
    "plt.title('Training History')\n",
    "plt.xlabel('Epoch')\n",
    "plt.ylabel('Accuracy')\n",
    "plt.legend()\n",
    "plt.grid()\n",
    "plt.show()"
   ]
  },
  {
   "cell_type": "code",
   "execution_count": null,
   "id": "307ff18b-28a5-4106-bdd0-23cab5133820",
   "metadata": {},
   "outputs": [],
   "source": []
  },
  {
   "cell_type": "code",
   "execution_count": null,
   "id": "626c5ab5-fffb-4cbe-bfed-e86fe8828778",
   "metadata": {},
   "outputs": [],
   "source": []
  },
  {
   "cell_type": "code",
   "execution_count": null,
   "id": "8931115e-fd40-491a-97c3-38f558481761",
   "metadata": {},
   "outputs": [],
   "source": []
  },
  {
   "cell_type": "code",
   "execution_count": 2,
   "id": "941c3054-c448-4e51-ae75-bf8b978450ae",
   "metadata": {},
   "outputs": [
    {
     "name": "stdout",
     "output_type": "stream",
     "text": [
      "48\n",
      "(48, 16384, 1)\n"
     ]
    }
   ],
   "source": [
    "data_BBH_df = pd.read_csv(\"C:/Users/sunda/Documents/Github/Gravitational Wave Detection/scripts/LIGO-detector-data/BBH/Processed_BBH.csv\", header=None)\n",
    "X = data_BBH_df.values.astype(float)\n",
    "\n",
    "print(len(data_BBH_df.index))\n",
    "\n",
    "y = [1 for i in range(len(data_BBH_df.index))]\n",
    "\n",
    "X = scaler.transform(X)\n",
    "\n",
    "X = np.expand_dims(X, axis=-1)\n",
    "print(X.shape)"
   ]
  },
  {
   "cell_type": "code",
   "execution_count": 3,
   "id": "47616b53-5266-4d69-b3eb-bb82e1021b08",
   "metadata": {},
   "outputs": [
    {
     "name": "stdout",
     "output_type": "stream",
     "text": [
      "2/2 [==============================] - 0s 113ms/step\n",
      "Total no. of data samples: 48\n",
      "No. of correct predictions: 48\n",
      "Accuracy: 100.00%\n"
     ]
    }
   ],
   "source": [
    "pred = model.predict(X)\n",
    "y_pred = (pred.ravel() > 0.5).astype(int)\n",
    "correct = np.sum(y_pred == y)\n",
    "acc = (correct / len(y)) * 100\n",
    "\n",
    "print(f\"Total no. of data samples: {len(y)}\")\n",
    "print(f\"No. of correct predictions: {correct}\")\n",
    "print(f\"Accuracy: {acc:.2f}%\")\n"
   ]
  },
  {
   "cell_type": "code",
   "execution_count": 4,
   "id": "6de295e8-803a-4d82-8e99-1ace95d53149",
   "metadata": {},
   "outputs": [
    {
     "name": "stdout",
     "output_type": "stream",
     "text": [
      "24\n",
      "(24, 16384, 1)\n"
     ]
    }
   ],
   "source": [
    "data_BBH_df = pd.read_csv(\"C:/Users/sunda/Documents/Github/Gravitational Wave Detection/scripts/LIGO-detector-data/BBH/Noise.csv\", header=None)\n",
    "X = data_BBH_df.values.astype(float)\n",
    "\n",
    "print(len(data_BBH_df.index))\n",
    "\n",
    "y = [0 for i in range(len(data_BBH_df.index))]\n",
    "\n",
    "X = scaler.transform(X)\n",
    "\n",
    "X = np.expand_dims(X, axis=-1)\n",
    "print(X.shape)"
   ]
  },
  {
   "cell_type": "code",
   "execution_count": 5,
   "id": "a8066f0f-b25c-461a-8e83-e534137bc3a1",
   "metadata": {},
   "outputs": [
    {
     "name": "stdout",
     "output_type": "stream",
     "text": [
      "1/1 [==============================] - 2s 2s/step\n",
      "Total no. of data samples: 24\n",
      "No. of correct predictions: 23\n",
      "Accuracy: 95.83%\n"
     ]
    }
   ],
   "source": [
    "pred = model.predict(X)\n",
    "y_pred = (pred.ravel() > 0.5).astype(int)\n",
    "correct = np.sum(y_pred == y)\n",
    "acc = (correct / len(y)) * 100\n",
    "\n",
    "print(f\"Total no. of data samples: {len(y)}\")\n",
    "print(f\"No. of correct predictions: {correct}\")\n",
    "print(f\"Accuracy: {acc:.2f}%\")\n"
   ]
  },
  {
   "cell_type": "code",
   "execution_count": 6,
   "id": "2eb25554-54ff-481d-9521-ca72af4b6289",
   "metadata": {},
   "outputs": [
    {
     "name": "stderr",
     "output_type": "stream",
     "text": [
      "/usr/local/lib/python3.8/dist-packages/keras/src/engine/training.py:3000: UserWarning: You are saving your model as an HDF5 file via `model.save()`. This file format is considered legacy. We recommend using instead the native Keras format, e.g. `model.save('my_model.keras')`.\n",
      "  saving_api.save_model(\n"
     ]
    }
   ],
   "source": [
    "model.save('synthetic_model.h5')"
   ]
  },
  {
   "cell_type": "code",
   "execution_count": 7,
   "id": "5447304a-fccc-45de-8f54-d7bd6d3ebdbb",
   "metadata": {},
   "outputs": [],
   "source": [
    "i=0"
   ]
  },
  {
   "cell_type": "code",
   "execution_count": 8,
   "id": "31798556-523a-49d6-bee5-e8207859f809",
   "metadata": {},
   "outputs": [],
   "source": [
    "i = 0\n",
    "while i<100:\n",
    "    if y_train[i] == 0:\n",
    "        break\n",
    "    i = i + 1"
   ]
  },
  {
   "cell_type": "code",
   "execution_count": 10,
   "id": "6596ea2b-9f30-4476-964d-092fef10e07c",
   "metadata": {},
   "outputs": [
    {
     "data": {
      "image/png": "[encoded data removed]",
      "text/plain": [
       "<Figure size 1000x400 with 1 Axes>"
      ]
     },
     "metadata": {},
     "output_type": "display_data"
    }
   ],
   "source": [
    "\n",
    "import matplotlib.pyplot as plt\n",
    "import numpy as np\n",
    "\n",
    "# Assume X_train was already reshaped to (samples, 16384, 1)\n",
    "\n",
    "waveform = X_train[i].squeeze()  # Shape: (16384,)\n",
    "\n",
    "# Generate time axis based on 4096 Hz sample rate\n",
    "duration = 4  # seconds\n",
    "sample_rate = 4096\n",
    "time = np.linspace(0, duration, len(waveform))\n",
    "\n",
    "plt.figure(figsize=(10, 4))\n",
    "plt.plot(time, waveform, label='Waveform sample (signal)')\n",
    "plt.xlabel(\"Time (s)\")\n",
    "plt.ylabel(\"Strain (normalized)\")\n",
    "plt.title(\"Example signal\")\n",
    "plt.grid(True)\n",
    "plt.legend()\n",
    "plt.tight_layout()\n",
    "plt.show()\n"
   ]
  }
 ],
 "metadata": {
  "kernelspec": {
   "display_name": "Python 3 (ipykernel)",
   "language": "python",
   "name": "python3"
  },
  "language_info": {
   "codemirror_mode": {
    "name": "ipython",
    "version": 3
   },
   "file_extension": ".py",
   "mimetype": "text/x-python",
   "name": "python",
   "nbconvert_exporter": "python",
   "pygments_lexer": "ipython3",
   "version": "3.8.10"
  }
 },
 "nbformat": 4,
 "nbformat_minor": 5
}
