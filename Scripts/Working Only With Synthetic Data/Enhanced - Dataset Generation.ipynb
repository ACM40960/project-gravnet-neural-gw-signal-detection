{
 "cells": [
  {
   "cell_type": "code",
   "execution_count": null,
   "id": "ecd870eb-8ac2-45d0-8fef-d11a17428b39",
   "metadata": {},
   "outputs": [],
   "source": [
    "from pycbc import distributions\n",
    "from pycbc.waveform import get_td_waveform\n",
    "from pycbc.filter import sigma\n",
    "from pycbc.psd import aLIGOZeroDetHighPower\n",
    "import pycbc.noise\n",
    "import numpy as np\n",
    "from gwpy.timeseries import TimeSeries\n",
    "from tqdm import tqdm\n",
    "import os\n",
    "\n",
    "# === Parameters ===\n",
    "n_samples = 5000\n",
    "fs = 4096\n",
    "duration = 4.0\n",
    "delta_t = 1.0 / fs\n",
    "tsamples = int(duration * fs)\n",
    "flow = 30.0\n",
    "target_snr_range = (5, 8)\n",
    "\n",
    "# === Output directories ===\n",
    "base_dir = \"./dataset/raw-data-files-enhanced-data-generation/\"\n",
    "dirs = {\n",
    "    \"signal\": os.path.join(base_dir, \"BBH/\"),\n",
    "    \"noise\": os.path.join(base_dir, \"noise_template/\"),\n",
    "    \"injected\": os.path.join(base_dir, \"noise-injected-signal/\")\n",
    "}\n",
    "for d in dirs.values():\n",
    "    os.makedirs(d, exist_ok=True)\n",
    "\n",
    "# === PSD for colored noise generation (fixed) ===\n",
    "delta_f_noise = 1.0 / duration  # 0.25 Hz\n",
    "flen_noise = int(2048 / delta_f_noise) + 1\n",
    "psd_noise = aLIGOZeroDetHighPower(flen_noise, delta_f_noise, flow)\n",
    "psd_noise[psd_noise == 0] = 1e-40\n",
    "psd_noise = pycbc.types.FrequencySeries(psd_noise, delta_f=delta_f_noise)\n",
    "\n",
    "# === Mass distribution ===\n",
    "mass_dist = distributions.Uniform(mass1=(10, 100), mass2=(10, 100))\n",
    "\n",
    "# === Injection loop ===\n",
    "valid_count = 0\n",
    "max_attempts = 10000\n",
    "i = 0\n",
    "\n",
    "while valid_count < n_samples and i < max_attempts:\n",
    "    try:\n",
    "        # Sample random BBH masses\n",
    "        m1, m2 = mass_dist.rvs(size=1)[0]\n",
    "        distance = 1\n",
    "        inclination = np.random.uniform(0, np.pi)\n",
    "        spin1z = np.random.uniform(-0.99, 0.99)\n",
    "        spin2z = np.random.uniform(-0.99, 0.99)\n",
    "\n",
    "        # Generate waveform\n",
    "        hp, _ = get_td_waveform(approximant=\"SEOBNRv2\",\n",
    "                                mass1=m1,\n",
    "                                mass2=m2,\n",
    "                                delta_t=delta_t,\n",
    "                                f_lower=40.0,\n",
    "                                distance=distance,\n",
    "                                inclination=inclination,\n",
    "                                spin1z=spin1z,\n",
    "                                spin2z=spin2z)\n",
    "\n",
    "        # Frequency domain waveform\n",
    "        ht = hp.to_frequencyseries()\n",
    "\n",
    "        # === NEW: PSD for SNR scaling (match delta_f) ===\n",
    "        delta_f_sigma = ht.delta_f\n",
    "        flen_sigma = int(2048 / delta_f_sigma) + 1\n",
    "        psd_sigma = aLIGOZeroDetHighPower(flen_sigma, delta_f_sigma, flow)\n",
    "        psd_sigma[psd_sigma == 0] = 1e-40\n",
    "        psd_sigma = pycbc.types.FrequencySeries(psd_sigma, delta_f=delta_f_sigma)\n",
    "\n",
    "        # Calculate original SNR\n",
    "        snr_orig = sigma(ht, psd=psd_sigma, low_frequency_cutoff=40.0)\n",
    "\n",
    "        if not np.isfinite(snr_orig) or snr_orig == 0:\n",
    "            i += 1\n",
    "            continue\n",
    "\n",
    "        # Random target SNR and scale\n",
    "        target_snr = np.random.randint(*target_snr_range)\n",
    "        hp *= target_snr / snr_orig\n",
    "\n",
    "        # Generate colored noise using fixed PSD\n",
    "        noise = pycbc.noise.noise_from_psd(tsamples, delta_t, psd_noise)\n",
    "        noise_ts = TimeSeries.from_pycbc(noise)\n",
    "\n",
    "        # Convert waveform to TimeSeries and shift to injection time\n",
    "        signal_ts = TimeSeries.from_pycbc(hp)\n",
    "        injection_time = np.random.choice([1, 1.5, 2, 2.5, 3])\n",
    "        signal_ts.t0 = injection_time\n",
    "\n",
    "        # Inject signal into noise\n",
    "        injected_ts = noise_ts.inject(signal_ts)\n",
    "\n",
    "        # Save all components\n",
    "        signal_ts.write(os.path.join(dirs[\"signal\"], f\"bbh_4k_{valid_count}.txt\"))\n",
    "        noise_ts.write(os.path.join(dirs[\"noise\"], f\"noise_4k_{valid_count}.txt\"))\n",
    "        injected_ts.write(os.path.join(dirs[\"injected\"], f\"merged_noise_signal_{valid_count}.txt\"))\n",
    "\n",
    "        valid_count += 1\n",
    "\n",
    "    except Exception as e:\n",
    "        print(f\"Skipping sample {i}: {e}\")\n",
    "\n",
    "    i += 1\n",
    "\n",
    "if valid_count < n_samples:\n",
    "    print(f\"⚠️ Only generated {valid_count} samples after {max_attempts} attempts.\")\n"
   ]
  },
  {
   "cell_type": "code",
   "execution_count": null,
   "id": "06b2330b-2c41-462b-9dc0-83d2ad99dedb",
   "metadata": {},
   "outputs": [],
   "source": []
  },
  {
   "cell_type": "code",
   "execution_count": null,
   "id": "e73b976b-8155-4b77-99d5-4af3c4919e07",
   "metadata": {},
   "outputs": [],
   "source": []
  },
  {
   "cell_type": "code",
   "execution_count": null,
   "id": "2e5cb8a7-70ce-42a1-a9fa-b8a492308b46",
   "metadata": {},
   "outputs": [],
   "source": []
  },
  {
   "cell_type": "code",
   "execution_count": 3,
   "id": "fb88a153-93c8-4d84-b295-025a5a808e32",
   "metadata": {},
   "outputs": [
    {
     "name": "stdout",
     "output_type": "stream",
     "text": [
      "✅ Validation dataset generation complete.\n"
     ]
    }
   ],
   "source": [
    "from pycbc import distributions\n",
    "from pycbc.waveform import get_td_waveform\n",
    "from pycbc.filter import sigma\n",
    "from pycbc.psd import aLIGOZeroDetHighPower\n",
    "import pycbc.noise\n",
    "import numpy as np\n",
    "from gwpy.timeseries import TimeSeries\n",
    "from tqdm import tqdm\n",
    "import os\n",
    "\n",
    "# === Parameters ===\n",
    "n_val_samples = 1000\n",
    "fs = 4096\n",
    "duration = 4.0\n",
    "delta_t = 1.0 / fs\n",
    "tsamples = int(duration * fs)\n",
    "flow = 30.0\n",
    "snr_range = (4, 10)\n",
    "\n",
    "# === Directories ===\n",
    "val_dir = \"./dataset/raw-val-data-files-enhanced-data-generation/\"\n",
    "dirs = {\n",
    "    \"noise\": os.path.join(val_dir, \"noise\"),\n",
    "    \"injected\": os.path.join(val_dir, \"injected\")\n",
    "}\n",
    "for d in dirs.values():\n",
    "    os.makedirs(d, exist_ok=True)\n",
    "\n",
    "# === Shared PSD for noise generation ===\n",
    "delta_f_noise = 1.0 / duration\n",
    "flen_noise = int(2048 / delta_f_noise) + 1\n",
    "shared_psd = aLIGOZeroDetHighPower(flen_noise, delta_f_noise, flow)\n",
    "shared_psd[shared_psd == 0] = 1e-40\n",
    "shared_psd = pycbc.types.FrequencySeries(shared_psd, delta_f=delta_f_noise)\n",
    "\n",
    "# === Mass distribution ===\n",
    "mass_dist = distributions.Uniform(mass1=(10, 50), mass2=(10, 50))\n",
    "mass_samples = mass_dist.rvs(size=n_val_samples)\n",
    "\n",
    "# === Generation loop ===\n",
    "generated = 0\n",
    "attempts = 0\n",
    "max_attempts = 3000  # Safety cap\n",
    "\n",
    "while generated < n_val_samples and attempts < max_attempts:\n",
    "    attempts += 1\n",
    "    try:\n",
    "        # === Sample masses and SNR dynamically ===\n",
    "        m1, m2 = np.random.uniform(10, 50, size=2)\n",
    "        target_snr = np.random.randint(*snr_range)\n",
    "        distance = 1 \n",
    "        inclination = np.random.uniform(0, np.pi)\n",
    "        spin1z = np.random.uniform(-0.99, 0.99)\n",
    "        spin2z = np.random.uniform(-0.99, 0.99)\n",
    "\n",
    "        # Generate waveform\n",
    "        hp, _ = get_td_waveform(approximant=\"SEOBNRv2\",\n",
    "                                mass1=m1,\n",
    "                                mass2=m2,\n",
    "                                delta_t=delta_t,\n",
    "                                f_lower=40.0,\n",
    "                                distance=distance,\n",
    "                                inclination=inclination,\n",
    "                                spin1z=spin1z,\n",
    "                                spin2z=spin2z)\n",
    "\n",
    "        # PSD for scaling (matched to waveform length)\n",
    "        delta_f_wave = 1.0 / hp.duration\n",
    "        flen_wave = int(2048 / delta_f_wave) + 1\n",
    "        psd_wave = aLIGOZeroDetHighPower(flen_wave, delta_f_wave, flow)\n",
    "        psd_wave[psd_wave == 0] = 1e-40\n",
    "        psd_wave = pycbc.types.FrequencySeries(psd_wave, delta_f=delta_f_wave)\n",
    "\n",
    "        ht = hp.to_frequencyseries()\n",
    "        snr_orig = sigma(ht, psd=psd_wave, low_frequency_cutoff=40.0)\n",
    "\n",
    "        if not np.isfinite(snr_orig) or snr_orig == 0:\n",
    "            continue\n",
    "\n",
    "        hp *= target_snr / snr_orig\n",
    "\n",
    "        noise = pycbc.noise.noise_from_psd(tsamples, delta_t, shared_psd)\n",
    "        noise_ts = TimeSeries.from_pycbc(noise)\n",
    "\n",
    "        signal_ts = TimeSeries.from_pycbc(hp)\n",
    "        injection_time = np.random.choice([1, 1.5, 2, 2.5, 3])\n",
    "        signal_ts.t0 = injection_time\n",
    "\n",
    "        injected_ts = noise_ts.inject(signal_ts)\n",
    "\n",
    "        # Save\n",
    "        noise_ts.write(f\"{dirs['noise']}/val_noise_{generated}.txt\")\n",
    "        injected_ts.write(f\"{dirs['injected']}/val_injected_{generated}.txt\")\n",
    "\n",
    "        generated += 1\n",
    "\n",
    "    except Exception as e:\n",
    "        print(f\"⚠️ Skipping sample {generated} (attempt {attempts}): {e}\")\n",
    "\n",
    "if generated < n_val_samples:\n",
    "    print(f\"⚠️ Only generated {generated} samples after {attempts} attempts.\")\n",
    "else:\n",
    "    print(\"✅ Validation dataset generation complete.\")\n"
   ]
  },
  {
   "cell_type": "code",
   "execution_count": null,
   "id": "7a41211d-be57-48bb-bccb-b704e5c2686b",
   "metadata": {},
   "outputs": [],
   "source": []
  },
  {
   "cell_type": "code",
   "execution_count": 4,
   "id": "5ef9592f-acf4-4ffc-b9b6-3d7a9cf248ce",
   "metadata": {},
   "outputs": [],
   "source": [
    "import csv\n",
    "import pandas as pd"
   ]
  },
  {
   "cell_type": "code",
   "execution_count": 8,
   "id": "86e9b227-22a5-4ecf-95bf-5da0d005ada5",
   "metadata": {},
   "outputs": [
    {
     "name": "stderr",
     "output_type": "stream",
     "text": [
      "100%|██████████| 5000/5000 [03:58<00:00, 20.96it/s]\n"
     ]
    }
   ],
   "source": [
    "#Merging the injected signal into single CSV file\n",
    "path = \"./dataset/raw-data-files-enhanced-data-generation/noise-injected-signal/\"\n",
    "files= os.listdir(path)\n",
    "f = open(\"./dataset/raw-data-files-enhanced-data-generation/Final_BBH_Merged_Noise_Signal_Reduced_No_ABS.csv\", 'w')\n",
    "cw = csv.writer(f)\n",
    "\n",
    "for i in tqdm(files):\n",
    "    df = pd.read_csv(path+i,sep = ' ', header=None)\n",
    "    c = df[:][1]\n",
    "    cw.writerow(c)\n",
    "f.close()"
   ]
  },
  {
   "cell_type": "code",
   "execution_count": 9,
   "id": "52949a4e-7c9a-4648-a4f9-5b18fbf09c40",
   "metadata": {},
   "outputs": [
    {
     "name": "stderr",
     "output_type": "stream",
     "text": [
      "100%|██████████| 5000/5000 [03:18<00:00, 25.19it/s]\n"
     ]
    }
   ],
   "source": [
    "#Merging the noise into single CSV file\n",
    "path = \"./dataset/raw-data-files-enhanced-data-generation/noise_template/\"\n",
    "files= os.listdir(path)\n",
    "f = open(\"./dataset/raw-data-files-enhanced-data-generation/Final_Merged_Noise_Reduced_No_Abs.csv\", 'w')\n",
    "cw = csv.writer(f)\n",
    "\n",
    "for i in tqdm(files):\n",
    "    df = pd.read_csv(path+i,sep = ' ', header=None)\n",
    "    if 1 in df.columns:\n",
    "        c = df[1]\n",
    "    else:\n",
    "        c = df[0]\n",
    "    #c = df[:][1]\n",
    "    cw.writerow(c)\n",
    "f.close()"
   ]
  },
  {
   "cell_type": "code",
   "execution_count": 10,
   "id": "8afde91c-52a3-41dc-b56e-1315f9641713",
   "metadata": {},
   "outputs": [
    {
     "name": "stderr",
     "output_type": "stream",
     "text": [
      "100%|██████████| 5000/5000 [00:24<00:00, 207.22it/s]\n"
     ]
    }
   ],
   "source": [
    "#Merging the signal into single CSV file\n",
    "path = \"./dataset/raw-data-files-enhanced-data-generation/BBH/\"\n",
    "files= os.listdir(path)\n",
    "f = open(\"./dataset/raw-data-files-enhanced-data-generation/Final_Merged_bbh_Signal_Reduced_No_Abs.csv\", 'w')\n",
    "cw = csv.writer(f)\n",
    "\n",
    "for i in tqdm(files):\n",
    "    df = pd.read_csv(path+i,sep = ' ', header=None)\n",
    "    c = df[:][1]\n",
    "    cw.writerow(c)\n",
    "f.close()"
   ]
  },
  {
   "cell_type": "code",
   "execution_count": 11,
   "id": "81c8d6d4-f5c9-44d7-97f1-e44d81104e1e",
   "metadata": {},
   "outputs": [
    {
     "name": "stderr",
     "output_type": "stream",
     "text": [
      "100%|██████████| 1000/1000 [00:46<00:00, 21.42it/s]\n"
     ]
    }
   ],
   "source": [
    "path = val_dir+\"injected/\"\n",
    "files= os.listdir(path)\n",
    "f = open(val_dir+'val_Final_BBH_Merged_Noise_Signal_Reduced_No_ABS.csv', 'w')\n",
    "cw = csv.writer(f)\n",
    "\n",
    "for i in tqdm(files):\n",
    "    df = pd.read_csv(path+i,sep = ' ', header=None)\n",
    "    c = df[:][1]\n",
    "    cw.writerow(c)\n",
    "f.close()"
   ]
  },
  {
   "cell_type": "code",
   "execution_count": 12,
   "id": "3e828b2d-2a5f-4b19-8b67-7feb75131f6c",
   "metadata": {},
   "outputs": [
    {
     "name": "stderr",
     "output_type": "stream",
     "text": [
      "100%|██████████| 1000/1000 [00:49<00:00, 20.30it/s]\n"
     ]
    }
   ],
   "source": [
    "path_1 = val_dir+\"noise/\"\n",
    "files_1= os.listdir(path_1)\n",
    "f1 = open(val_dir+'val_Final_Merged_Noise_Reduced_No_Abs.csv', 'w')\n",
    "cw_1 = csv.writer(f1)\n",
    "\n",
    "for i in tqdm(files_1):\n",
    "    #print(files)\n",
    "    df = pd.read_csv(path_1+i,sep = ' ', header=None)\n",
    "    c = df[:][1]\n",
    "    cw_1.writerow(c)\n",
    "f1.close()"
   ]
  },
  {
   "cell_type": "code",
   "execution_count": null,
   "id": "1ca498e3-5693-431c-b020-068a667f0aee",
   "metadata": {},
   "outputs": [],
   "source": []
  },
  {
   "cell_type": "code",
   "execution_count": null,
   "id": "66cc5443-aaaa-4bd0-92e8-59e1999a2e9e",
   "metadata": {},
   "outputs": [],
   "source": []
  },
  {
   "cell_type": "code",
   "execution_count": null,
   "id": "15112589-1eca-481e-89a5-51346d0722d0",
   "metadata": {},
   "outputs": [],
   "source": []
  },
  {
   "cell_type": "code",
   "execution_count": null,
   "id": "74a8604e-abe6-4b9e-9026-8d144a20f58c",
   "metadata": {},
   "outputs": [],
   "source": []
  },
  {
   "cell_type": "code",
   "execution_count": null,
   "id": "307ff18b-28a5-4106-bdd0-23cab5133820",
   "metadata": {},
   "outputs": [],
   "source": []
  },
  {
   "cell_type": "code",
   "execution_count": null,
   "id": "626c5ab5-fffb-4cbe-bfed-e86fe8828778",
   "metadata": {},
   "outputs": [],
   "source": []
  },
  {
   "cell_type": "code",
   "execution_count": null,
   "id": "8931115e-fd40-491a-97c3-38f558481761",
   "metadata": {},
   "outputs": [],
   "source": []
  }
 ],
 "metadata": {
  "kernelspec": {
   "display_name": "Python 3 (ipykernel)",
   "language": "python",
   "name": "python3"
  },
  "language_info": {
   "codemirror_mode": {
    "name": "ipython",
    "version": 3
   },
   "file_extension": ".py",
   "mimetype": "text/x-python",
   "name": "python",
   "nbconvert_exporter": "python",
   "pygments_lexer": "ipython3",
   "version": "3.8.10"
  }
 },
 "nbformat": 4,
 "nbformat_minor": 5
}
