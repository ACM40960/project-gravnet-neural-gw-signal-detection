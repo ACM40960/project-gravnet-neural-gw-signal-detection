{
 "cells": [
  {
   "cell_type": "code",
   "execution_count": 5,
   "id": "08e7af74-bec0-4a43-bd91-7d71d6e67e00",
   "metadata": {},
   "outputs": [],
   "source": [
    "import numpy as np\n",
    "from sklearn.preprocessing import StandardScaler\n",
    "\n",
    "# === Load saved scaler parameters ===\n",
    "scaler_mean = np.load(\"scaler_mean.npy\")\n",
    "scaler_scale = np.load(\"scaler_scale.npy\")\n",
    "\n",
    "# Recreate the scaler\n",
    "scaler = StandardScaler()\n",
    "scaler.mean_ = scaler_mean\n",
    "scaler.scale_ = scaler_scale\n",
    "scaler.var_ = scaler_scale ** 2\n",
    "\n",
    "from tensorflow.keras.models import load_model\n",
    "model = load_model(\"synthetic_model.h5\")"
   ]
  },
  {
   "cell_type": "code",
   "execution_count": 3,
   "id": "640e8386-78b4-4fa8-bf4f-7a03315967fd",
   "metadata": {},
   "outputs": [
    {
     "name": "stdout",
     "output_type": "stream",
     "text": [
      "48\n",
      "(48, 16384, 1)\n"
     ]
    }
   ],
   "source": [
    "import pandas as pd\n",
    "data_BBH_df = pd.read_csv(\"./dataset/BBH/Processed_BBH.csv\", header=None)\n",
    "X = data_BBH_df.values.astype(float)\n",
    "\n",
    "print(len(data_BBH_df.index))\n",
    "\n",
    "y = [1 for i in range(len(data_BBH_df.index))]\n",
    "\n",
    "X = scaler.transform(X)\n",
    "\n",
    "X = np.expand_dims(X, axis=-1)\n",
    "print(X.shape)"
   ]
  },
  {
   "cell_type": "code",
   "execution_count": 7,
   "id": "07259319-e740-41fd-a5f7-70c3130303d9",
   "metadata": {},
   "outputs": [
    {
     "name": "stdout",
     "output_type": "stream",
     "text": [
      "2/2 [==============================] - 0s 212ms/step\n",
      "Total no. of data samples: 48\n",
      "No. of correct predictions: 48\n",
      "Accuracy: 100.00%\n"
     ]
    }
   ],
   "source": [
    "pred = model.predict(X)\n",
    "y_pred = (pred.ravel() > 0.5).astype(int)\n",
    "correct = np.sum(y_pred == y)\n",
    "acc = (correct / len(y)) * 100\n",
    "\n",
    "print(f\"Total no. of data samples: {len(y)}\")\n",
    "print(f\"No. of correct predictions: {correct}\")\n",
    "print(f\"Accuracy: {acc:.2f}%\")\n"
   ]
  },
  {
   "cell_type": "code",
   "execution_count": 8,
   "id": "c11d05ec-482a-45b8-a377-ac6af3f43df8",
   "metadata": {},
   "outputs": [
    {
     "name": "stdout",
     "output_type": "stream",
     "text": [
      "24\n",
      "(24, 16384, 1)\n"
     ]
    }
   ],
   "source": [
    "data_BBH_df = pd.read_csv(\"./dataset/BBH/Noise.csv\", header=None)\n",
    "X = data_BBH_df.values.astype(float)\n",
    "\n",
    "print(len(data_BBH_df.index))\n",
    "\n",
    "y = [0 for i in range(len(data_BBH_df.index))]\n",
    "\n",
    "X = scaler.transform(X)\n",
    "\n",
    "X = np.expand_dims(X, axis=-1)\n",
    "print(X.shape)"
   ]
  },
  {
   "cell_type": "code",
   "execution_count": 9,
   "id": "b1fed48d-a6b2-412d-8f90-8443a144f239",
   "metadata": {},
   "outputs": [
    {
     "name": "stdout",
     "output_type": "stream",
     "text": [
      "1/1 [==============================] - 2s 2s/step\n",
      "Total no. of data samples: 24\n",
      "No. of correct predictions: 23\n",
      "Accuracy: 95.83%\n"
     ]
    }
   ],
   "source": [
    "pred = model.predict(X)\n",
    "y_pred = (pred.ravel() > 0.5).astype(int)\n",
    "correct = np.sum(y_pred == y)\n",
    "acc = (correct / len(y)) * 100\n",
    "\n",
    "print(f\"Total no. of data samples: {len(y)}\")\n",
    "print(f\"No. of correct predictions: {correct}\")\n",
    "print(f\"Accuracy: {acc:.2f}%\")\n"
   ]
  },
  {
   "cell_type": "code",
   "execution_count": null,
   "id": "e6087103-1e33-46fd-9bca-4de693737619",
   "metadata": {},
   "outputs": [],
   "source": []
  }
 ],
 "metadata": {
  "kernelspec": {
   "display_name": "Python 3 (ipykernel)",
   "language": "python",
   "name": "python3"
  },
  "language_info": {
   "codemirror_mode": {
    "name": "ipython",
    "version": 3
   },
   "file_extension": ".py",
   "mimetype": "text/x-python",
   "name": "python",
   "nbconvert_exporter": "python",
   "pygments_lexer": "ipython3",
   "version": "3.8.10"
  }
 },
 "nbformat": 4,
 "nbformat_minor": 5
}
