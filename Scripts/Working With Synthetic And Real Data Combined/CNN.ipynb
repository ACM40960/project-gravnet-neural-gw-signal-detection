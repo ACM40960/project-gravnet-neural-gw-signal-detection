{
 "cells": [
  {
   "cell_type": "code",
   "execution_count": 1,
   "id": "e1149ae5-3708-4726-b66a-c9caf5b668bb",
   "metadata": {},
   "outputs": [],
   "source": [
    "import os\n",
    "os.environ['TF_CPP_MIN_LOG_LEVEL'] = '3'\n",
    "\n",
    "import warnings\n",
    "warnings.filterwarnings('ignore')\n",
    "\n",
    "import tensorflow as tf\n",
    "tf.get_logger().setLevel('ERROR')"
   ]
  },
  {
   "cell_type": "code",
   "execution_count": 2,
   "id": "994006e9-2864-4657-9473-efa4bac6a131",
   "metadata": {},
   "outputs": [],
   "source": [
    "import numpy as np\n",
    "import pandas as pd\n",
    "from sklearn.utils import shuffle\n",
    "from sklearn.preprocessing import StandardScaler\n",
    "\n",
    "signal_real = pd.read_csv(\"./combined-dataset/real-signal-injected.csv\", header=None).astype(float)\n",
    "signal_syn = pd.read_csv(\"./combined-dataset/synthetic-signal-injected.csv\", header=None).astype(float)\n",
    "noise_real = pd.read_csv(\"./combined-dataset/real-noise.csv\", header=None).astype(float)\n",
    "noise_syn = pd.read_csv(\"./combined-dataset/synthetic-noise.csv\", header=None).astype(float)\n",
    "\n",
    "signal_real[\"label\"] = 1\n",
    "signal_syn[\"label\"] = 1\n",
    "noise_real[\"label\"] = 0\n",
    "noise_syn[\"label\"] = 0\n",
    "\n",
    "train_data = pd.concat([signal_real, signal_syn, noise_real, noise_syn], axis = 0)\n",
    "train_data = shuffle(train_data, random_state = 42)\n",
    "\n",
    "X = train_data.iloc[:, :-1].values\n",
    "y = train_data[\"label\"].values.astype(np.float32)\n",
    "\n",
    "noise_all = pd.concat([noise_real, noise_syn], axis = 0)\n",
    "\n",
    "scaler = StandardScaler()\n",
    "scaler.fit(noise_all.iloc[:, :-1])\n",
    "X = scaler.transform(X)\n",
    "\n",
    "X = np.expand_dims(X, axis=-1)"
   ]
  },
  {
   "cell_type": "code",
   "execution_count": 3,
   "id": "dc6ddce7-e63b-47a7-b934-b77cb9fab3be",
   "metadata": {},
   "outputs": [],
   "source": [
    "import tensorflow as tf\n",
    "from tensorflow.keras.models import Model\n",
    "from tensorflow.keras.layers import (Input, Conv1D, BatchNormalization, ReLU,\n",
    "                                     MaxPooling1D, Dropout, GlobalAveragePooling1D,\n",
    "                                     Dense, Add)\n",
    "from tensorflow.keras.callbacks import EarlyStopping\n",
    "from sklearn.model_selection import train_test_split\n",
    "\n",
    "X_train, X_val, y_train, y_val = train_test_split(X, y, test_size=0.2, stratify=y, random_state=42)\n",
    "\n",
    "def build_best_cnn(input_shape=(16384, 1)):\n",
    "    inputs = Input(shape=input_shape)\n",
    "\n",
    "    x = Conv1D(32, 16, padding='same')(inputs)\n",
    "    x = BatchNormalization()(x)\n",
    "    x = ReLU()(x)\n",
    "    x = MaxPooling1D(pool_size=4)(x)\n",
    "\n",
    "    x = Conv1D(64, 8, padding='same')(x)  # input is now 4096 length\n",
    "    x = BatchNormalization()(x)\n",
    "    x = ReLU()(x)\n",
    "    x = MaxPooling1D(pool_size=4)(x)      # down to 1024\n",
    "\n",
    "    x = Conv1D(128, 8, padding='same')(x)\n",
    "    x = BatchNormalization()(x)\n",
    "    x = ReLU()(x)\n",
    "    x = MaxPooling1D(pool_size=4)(x)      # 256\n",
    "\n",
    "    x = Conv1D(256, 8, padding='same')(x)\n",
    "    x = BatchNormalization()(x)\n",
    "    x = ReLU()(x)\n",
    "    x = MaxPooling1D(pool_size=4)(x)      # 64\n",
    "\n",
    "    x = Conv1D(512, 4, padding='same')(x)\n",
    "    x = BatchNormalization()(x)\n",
    "    x = ReLU()(x)\n",
    "    x = GlobalAveragePooling1D()(x)\n",
    "\n",
    "    x = Dense(256, activation='relu')(x)\n",
    "    x = Dropout(0.5)(x)\n",
    "    outputs = Dense(1, activation='sigmoid')(x)\n",
    "\n",
    "    model = Model(inputs, outputs)\n",
    "    model.compile(\n",
    "        optimizer=tf.keras.optimizers.Adam(1e-4),\n",
    "        loss='binary_crossentropy',\n",
    "        metrics=['accuracy']\n",
    "    )\n",
    "    return model\n"
   ]
  },
  {
   "cell_type": "code",
   "execution_count": 4,
   "id": "b7ee2864-1110-45f8-b797-d1a8f99d460f",
   "metadata": {},
   "outputs": [
    {
     "name": "stdout",
     "output_type": "stream",
     "text": [
      "Epoch 1/30\n",
      "1792/1792 [==============================] - 35s 16ms/step - loss: 0.6481 - accuracy: 0.5954 - val_loss: 0.6239 - val_accuracy: 0.7168\n",
      "Epoch 2/30\n",
      "1792/1792 [==============================] - 27s 15ms/step - loss: 0.4280 - accuracy: 0.7542 - val_loss: 0.4942 - val_accuracy: 0.7174\n",
      "Epoch 3/30\n",
      "1792/1792 [==============================] - 28s 16ms/step - loss: 0.3796 - accuracy: 0.7768 - val_loss: 0.6142 - val_accuracy: 0.7294\n",
      "Epoch 4/30\n",
      "1792/1792 [==============================] - 28s 16ms/step - loss: 0.3589 - accuracy: 0.7921 - val_loss: 0.5510 - val_accuracy: 0.7634\n",
      "Epoch 5/30\n",
      "1792/1792 [==============================] - 29s 16ms/step - loss: 0.3462 - accuracy: 0.8002 - val_loss: 0.4130 - val_accuracy: 0.8039\n",
      "Epoch 6/30\n",
      "1792/1792 [==============================] - 28s 16ms/step - loss: 0.3345 - accuracy: 0.8126 - val_loss: 0.4315 - val_accuracy: 0.7729\n",
      "Epoch 7/30\n",
      "1792/1792 [==============================] - 27s 15ms/step - loss: 0.3279 - accuracy: 0.8226 - val_loss: 0.3474 - val_accuracy: 0.8382\n",
      "Epoch 8/30\n",
      "1792/1792 [==============================] - 28s 16ms/step - loss: 0.3159 - accuracy: 0.8276 - val_loss: 0.4021 - val_accuracy: 0.8167\n",
      "Epoch 9/30\n",
      "1792/1792 [==============================] - 28s 16ms/step - loss: 0.3113 - accuracy: 0.8336 - val_loss: 0.5225 - val_accuracy: 0.7946\n",
      "Epoch 10/30\n",
      "1792/1792 [==============================] - 28s 16ms/step - loss: 0.2997 - accuracy: 0.8474 - val_loss: 0.3724 - val_accuracy: 0.8583\n",
      "Epoch 11/30\n",
      "1792/1792 [==============================] - 28s 16ms/step - loss: 0.2919 - accuracy: 0.8522 - val_loss: 0.4671 - val_accuracy: 0.8253\n",
      "Epoch 12/30\n",
      "1792/1792 [==============================] - 29s 16ms/step - loss: 0.2800 - accuracy: 0.8599 - val_loss: 0.4910 - val_accuracy: 0.8200\n"
     ]
    }
   ],
   "source": [
    "model = build_best_cnn()\n",
    "history = model.fit(\n",
    "    X_train, y_train,\n",
    "    validation_data=(X_val, y_val),\n",
    "    epochs=30,\n",
    "    batch_size=8,  # reduced from 32\n",
    "    callbacks=[EarlyStopping(monitor='val_loss', patience=5, restore_best_weights=True)],\n",
    "    verbose=1\n",
    ")\n"
   ]
  },
  {
   "cell_type": "code",
   "execution_count": 5,
   "id": "99150675-eb4c-416d-b099-002c53ecca0c",
   "metadata": {},
   "outputs": [
    {
     "name": "stdout",
     "output_type": "stream",
     "text": [
      "112/112 [==============================] - 2s 11ms/step\n",
      "ROC AUC Score: 0.933517767458546\n",
      "              precision    recall  f1-score   support\n",
      "\n",
      "         0.0       0.79      0.92      0.85      1792\n",
      "         1.0       0.90      0.76      0.82      1792\n",
      "\n",
      "    accuracy                           0.84      3584\n",
      "   macro avg       0.85      0.84      0.84      3584\n",
      "weighted avg       0.85      0.84      0.84      3584\n",
      "\n"
     ]
    },
    {
     "data": {
      "image/png": "[encoded data removed]",
      "text/plain": [
       "<Figure size 640x480 with 1 Axes>"
      ]
     },
     "metadata": {},
     "output_type": "display_data"
    }
   ],
   "source": [
    "y_pred = model.predict(X_val).ravel()\n",
    "\n",
    "from sklearn.metrics import classification_report, roc_auc_score\n",
    "import matplotlib.pyplot as plt\n",
    "print(\"ROC AUC Score:\", roc_auc_score(y_val, y_pred))\n",
    "print(classification_report(y_val, (y_pred > 0.5).astype(int)))\n",
    "\n",
    "# === Plot Accuracy ===\n",
    "plt.plot(history.history['accuracy'], label='Train Acc')\n",
    "plt.plot(history.history['val_accuracy'], label='Val Acc')\n",
    "plt.title('Training History')\n",
    "plt.xlabel('Epoch')\n",
    "plt.ylabel('Accuracy')\n",
    "plt.legend()\n",
    "plt.grid()\n",
    "plt.show()"
   ]
  },
  {
   "cell_type": "code",
   "execution_count": 6,
   "id": "4cc7be8c-9d6a-4521-9508-05c6d2d1befe",
   "metadata": {},
   "outputs": [],
   "source": [
    "model.save(\"final_pure_cnn_model.h5\")"
   ]
  },
  {
   "cell_type": "code",
   "execution_count": null,
   "id": "5111e521-d109-41f4-89f0-6bef8b208391",
   "metadata": {},
   "outputs": [],
   "source": []
  }
 ],
 "metadata": {
  "kernelspec": {
   "display_name": "Python 3 (ipykernel)",
   "language": "python",
   "name": "python3"
  },
  "language_info": {
   "codemirror_mode": {
    "name": "ipython",
    "version": 3
   },
   "file_extension": ".py",
   "mimetype": "text/x-python",
   "name": "python",
   "nbconvert_exporter": "python",
   "pygments_lexer": "ipython3",
   "version": "3.8.10"
  }
 },
 "nbformat": 4,
 "nbformat_minor": 5
}
