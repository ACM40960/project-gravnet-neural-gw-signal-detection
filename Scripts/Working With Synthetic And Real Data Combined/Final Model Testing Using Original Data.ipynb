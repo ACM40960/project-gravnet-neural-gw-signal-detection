{
 "cells": [
  {
   "cell_type": "code",
   "execution_count": 38,
   "id": "1cfb5bcf-5f86-4c20-9b63-d2bee1169e96",
   "metadata": {},
   "outputs": [],
   "source": [
    "import numpy as np\n",
    "from sklearn.preprocessing import StandardScaler\n",
    "\n",
    "# === Load saved scaler parameters ===\n",
    "scaler_mean = np.load(\"scaler_mean_combined.npy\")\n",
    "scaler_scale = np.load(\"scaler_scale_combined.npy\")\n",
    "\n",
    "# Recreate the scaler\n",
    "scaler = StandardScaler()\n",
    "scaler.mean_ = scaler_mean\n",
    "scaler.scale_ = scaler_scale\n",
    "scaler.var_ = scaler_scale ** 2\n",
    "\n",
    "from tensorflow.keras.models import load_model\n",
    "model = load_model(\"final_combined_cnn_model.h5\")"
   ]
  },
  {
   "cell_type": "code",
   "execution_count": 39,
   "id": "6ffef4f4-0fb0-4ad9-aed3-cfaf06b4b74a",
   "metadata": {},
   "outputs": [
    {
     "name": "stdout",
     "output_type": "stream",
     "text": [
      "48\n",
      "(48, 16384, 1)\n"
     ]
    }
   ],
   "source": [
    "import pandas as pd\n",
    "\n",
    "data_BBH_df = pd.read_csv(\"./BBH/processed.csv\", header=None)\n",
    "X = data_BBH_df.values.astype(float)\n",
    "\n",
    "print(len(data_BBH_df.index))\n",
    "\n",
    "y = [1 for i in range(len(data_BBH_df.index))]\n",
    "\n",
    "X = scaler.transform(X)\n",
    "\n",
    "X = np.expand_dims(X, axis=-1)\n",
    "print(X.shape)"
   ]
  },
  {
   "cell_type": "code",
   "execution_count": 40,
   "id": "e8127daf-b592-4469-b707-5022679ecf77",
   "metadata": {},
   "outputs": [
    {
     "name": "stdout",
     "output_type": "stream",
     "text": [
      "2/2 [==============================] - 1s 278ms/step\n",
      "Total no. of original gravitational data samples: 48\n",
      "No. of correct predictions: 41\n",
      "Accuracy: 85.42%\n"
     ]
    }
   ],
   "source": [
    "pred = model.predict(X)\n",
    "y_pred = (pred.ravel() > 0.5).astype(int)\n",
    "correct = np.sum(y_pred == y)\n",
    "acc = (correct / len(y)) * 100\n",
    "\n",
    "print(f\"Total no. of original gravitational data samples: {len(y)}\")\n",
    "print(f\"No. of correct predictions: {correct}\")\n",
    "print(f\"Accuracy: {acc:.2f}%\")"
   ]
  },
  {
   "cell_type": "code",
   "execution_count": 41,
   "id": "6f7b3df4-5a4f-4cfa-82d0-cc2ba9d5580b",
   "metadata": {},
   "outputs": [
    {
     "name": "stdout",
     "output_type": "stream",
     "text": [
      "48\n",
      "(48, 16384, 1)\n"
     ]
    }
   ],
   "source": [
    "import pandas as pd\n",
    "\n",
    "data_BBH_df = pd.read_csv(\"./BBH/original-noise-unseen.csv\", header=None)\n",
    "X = data_BBH_df.values.astype(float)\n",
    "\n",
    "print(len(data_BBH_df.index))\n",
    "\n",
    "y = [0 for i in range(len(data_BBH_df.index))]\n",
    "\n",
    "X = scaler.transform(X)\n",
    "\n",
    "X = np.expand_dims(X, axis=-1)\n",
    "print(X.shape)"
   ]
  },
  {
   "cell_type": "code",
   "execution_count": 42,
   "id": "675f4612-67b6-48dc-bbfa-d27a2c02aa6f",
   "metadata": {},
   "outputs": [
    {
     "name": "stdout",
     "output_type": "stream",
     "text": [
      "2/2 [==============================] - 0s 236ms/step\n",
      "Total no. of original noise data samples: 48\n",
      "No. of correct predictions: 48\n",
      "Accuracy: 100.00%\n"
     ]
    }
   ],
   "source": [
    "pred = model.predict(X)\n",
    "y_pred = (pred.ravel() > 0.5).astype(int)\n",
    "correct = np.sum(y_pred == y)\n",
    "acc = (correct / len(y)) * 100\n",
    "\n",
    "print(f\"Total no. of original noise data samples: {len(y)}\")\n",
    "print(f\"No. of correct predictions: {correct}\")\n",
    "print(f\"Accuracy: {acc:.2f}%\")"
   ]
  },
  {
   "cell_type": "code",
   "execution_count": null,
   "id": "1616d210-53ef-4cea-a0b0-24e9e1be5b5e",
   "metadata": {},
   "outputs": [],
   "source": []
  }
 ],
 "metadata": {
  "kernelspec": {
   "display_name": "Python 3 (ipykernel)",
   "language": "python",
   "name": "python3"
  },
  "language_info": {
   "codemirror_mode": {
    "name": "ipython",
    "version": 3
   },
   "file_extension": ".py",
   "mimetype": "text/x-python",
   "name": "python",
   "nbconvert_exporter": "python",
   "pygments_lexer": "ipython3",
   "version": "3.8.10"
  }
 },
 "nbformat": 4,
 "nbformat_minor": 5
}
