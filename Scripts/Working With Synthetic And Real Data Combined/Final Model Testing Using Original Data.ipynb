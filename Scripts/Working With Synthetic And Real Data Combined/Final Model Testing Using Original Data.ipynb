{
 "cells": [
  {
   "cell_type": "code",
   "execution_count": 18,
   "id": "c2842586-c2a6-4d4e-b052-8ed948a6e60b",
   "metadata": {},
   "outputs": [],
   "source": [
    "import os\n",
    "os.environ['TF_CPP_MIN_LOG_LEVEL'] = '3'\n",
    "\n",
    "import warnings\n",
    "warnings.filterwarnings('ignore')\n",
    "\n",
    "import tensorflow as tf\n",
    "tf.get_logger().setLevel('ERROR')"
   ]
  },
  {
   "cell_type": "code",
   "execution_count": 46,
   "id": "1cfb5bcf-5f86-4c20-9b63-d2bee1169e96",
   "metadata": {},
   "outputs": [],
   "source": [
    "import numpy as np\n",
    "from sklearn.preprocessing import StandardScaler\n",
    "\n",
    "# === Load saved scaler parameters ===\n",
    "scaler_mean = np.load(\"scaler_mean_combined.npy\")\n",
    "scaler_scale = np.load(\"scaler_scale_combined.npy\")\n",
    "\n",
    "# Recreate the scaler\n",
    "scaler = StandardScaler()\n",
    "scaler.mean_ = scaler_mean\n",
    "scaler.scale_ = scaler_scale\n",
    "scaler.var_ = scaler_scale ** 2\n",
    "\n",
    "from tensorflow.keras.models import load_model\n",
    "residual_cnn_model = load_model(\"final_combined_cnn_model.h5\")\n",
    "cnn_gru_model = load_model(\"final_combined_cnn_gru_model.h5\")\n",
    "pure_cnn_model = load_model(\"final_pure_cnn_model.h5\")\n",
    "cnn_transormer_model = load_model(\"final_cnn_transformer_model.h5\")"
   ]
  },
  {
   "cell_type": "code",
   "execution_count": 47,
   "id": "6ffef4f4-0fb0-4ad9-aed3-cfaf06b4b74a",
   "metadata": {},
   "outputs": [
    {
     "name": "stdout",
     "output_type": "stream",
     "text": [
      "48\n",
      "(48, 16384, 1)\n"
     ]
    }
   ],
   "source": [
    "import pandas as pd\n",
    "\n",
    "data_BBH_df = pd.read_csv(\"./BBH/processed.csv\", header=None)\n",
    "X = data_BBH_df.values.astype(float)\n",
    "\n",
    "print(len(data_BBH_df.index))\n",
    "\n",
    "y = [1 for i in range(len(data_BBH_df.index))]\n",
    "\n",
    "X = scaler.transform(X)\n",
    "\n",
    "X = np.expand_dims(X, axis=-1)\n",
    "print(X.shape)"
   ]
  },
  {
   "cell_type": "code",
   "execution_count": 48,
   "id": "e8127daf-b592-4469-b707-5022679ecf77",
   "metadata": {},
   "outputs": [
    {
     "name": "stdout",
     "output_type": "stream",
     "text": [
      "2/2 [==============================] - 0s 257ms/step\n",
      "Total no. of original gravitational data samples: 48\n",
      "No. of correct predictions by Residual CNN model: 40\n",
      "Accuracy of Residual CNN model: 83.33%\n"
     ]
    }
   ],
   "source": [
    "pred_residual_cnn = residual_cnn_model.predict(X)\n",
    "y_pred = (pred_residual_cnn.ravel() > 0.5).astype(int)\n",
    "correct = np.sum(y_pred == y)\n",
    "acc = (correct / len(y)) * 100\n",
    "\n",
    "print(f\"Total no. of original gravitational data samples: {len(y)}\")\n",
    "print(f\"No. of correct predictions by Residual CNN model: {correct}\")\n",
    "print(f\"Accuracy of Residual CNN model: {acc:.2f}%\")"
   ]
  },
  {
   "cell_type": "code",
   "execution_count": 49,
   "id": "35f8e3ce-9166-417c-afb8-cf16ef920670",
   "metadata": {},
   "outputs": [
    {
     "name": "stdout",
     "output_type": "stream",
     "text": [
      "2/2 [==============================] - 0s 22ms/step\n",
      "Total no. of original gravitational data samples: 48\n",
      "No. of correct predictions by CNN + GRU model: 48\n",
      "Accuracy of CNN + GRU model: 100.00%\n"
     ]
    }
   ],
   "source": [
    "pred_cnn_gru = cnn_gru_model.predict(X)\n",
    "y_pred = (pred_cnn_gru.ravel() > 0.5).astype(int)\n",
    "correct = np.sum(y_pred == y)\n",
    "acc = (correct / len(y)) * 100\n",
    "\n",
    "print(f\"Total no. of original gravitational data samples: {len(y)}\")\n",
    "print(f\"No. of correct predictions by CNN + GRU model: {correct}\")\n",
    "print(f\"Accuracy of CNN + GRU model: {acc:.2f}%\")"
   ]
  },
  {
   "cell_type": "code",
   "execution_count": 50,
   "id": "5e543135-4558-4aa6-82b3-33b0858d3f8b",
   "metadata": {},
   "outputs": [
    {
     "name": "stdout",
     "output_type": "stream",
     "text": [
      "2/2 [==============================] - 0s 16ms/step\n",
      "Total no. of original gravitational data samples: 48\n",
      "No. of correct predictions by Pure CNN model: 48\n",
      "Accuracy of Pure CNN model: 100.00%\n"
     ]
    }
   ],
   "source": [
    "pred_pure_cnn = pure_cnn_model.predict(X)\n",
    "y_pred = (pred_pure_cnn.ravel() > 0.5).astype(int)\n",
    "correct = np.sum(y_pred == y)\n",
    "acc = (correct / len(y)) * 100\n",
    "\n",
    "print(f\"Total no. of original gravitational data samples: {len(y)}\")\n",
    "print(f\"No. of correct predictions by Pure CNN model: {correct}\")\n",
    "print(f\"Accuracy of Pure CNN model: {acc:.2f}%\")"
   ]
  },
  {
   "cell_type": "code",
   "execution_count": 51,
   "id": "551a2e3c-4b49-430c-9c69-613fa6ac35a8",
   "metadata": {},
   "outputs": [
    {
     "name": "stdout",
     "output_type": "stream",
     "text": [
      "2/2 [==============================] - 0s 6ms/step\n",
      "Total no. of original gravitational data samples: 48\n",
      "No. of correct predictions by CNN + Transormfer model: 37\n",
      "Accuracy of CNN + Transormfer model: 77.08%\n"
     ]
    }
   ],
   "source": [
    "pred_cnn_transormer = cnn_transormer_model.predict(X)\n",
    "y_pred = (pred_cnn_transormer.ravel() > 0.5).astype(int)\n",
    "correct = np.sum(y_pred == y)\n",
    "acc = (correct / len(y)) * 100\n",
    "\n",
    "print(f\"Total no. of original gravitational data samples: {len(y)}\")\n",
    "print(f\"No. of correct predictions by CNN + Transormfer model: {correct}\")\n",
    "print(f\"Accuracy of CNN + Transormfer model: {acc:.2f}%\")"
   ]
  },
  {
   "cell_type": "code",
   "execution_count": 52,
   "id": "c0f1068b-010e-4d40-a2ed-4c79d23b27ed",
   "metadata": {},
   "outputs": [
    {
     "name": "stdout",
     "output_type": "stream",
     "text": [
      "Total no. of original gravitational data samples: 48\n",
      "No. of correct predictions: 48\n",
      "Accuracy: 100.00%\n"
     ]
    }
   ],
   "source": [
    "#\n",
    "#\n",
    "#\n",
    "#Ensemble technique implementation\n",
    "#\n",
    "#\n",
    "#\n",
    "\n",
    "ensemble_pred = (pred_residual_cnn.ravel() + pred_cnn_gru.ravel() + pred_pure_cnn.ravel() + pred_cnn_transormer.ravel()) / 4\n",
    "final_pred = (ensemble_pred.ravel() > 0.5).astype(int)\n",
    "correct_final_pred = np.sum(final_pred == y)\n",
    "acc_final = (correct_final_pred / len(y)) * 100\n",
    "\n",
    "print(f\"Total no. of original gravitational data samples: {len(y)}\")\n",
    "print(f\"No. of correct predictions: {correct_final_pred}\")\n",
    "print(f\"Accuracy: {acc_final:.2f}%\")"
   ]
  },
  {
   "cell_type": "code",
   "execution_count": null,
   "id": "718daa34-d640-4ef4-8b6c-e01a68e7e07e",
   "metadata": {},
   "outputs": [],
   "source": []
  },
  {
   "cell_type": "code",
   "execution_count": null,
   "id": "67ef2329-ae2c-42ad-a391-877fc8e3752d",
   "metadata": {},
   "outputs": [],
   "source": []
  },
  {
   "cell_type": "code",
   "execution_count": null,
   "id": "231a00c2-ee8d-434e-9fd4-d786c5d5296a",
   "metadata": {},
   "outputs": [],
   "source": []
  },
  {
   "cell_type": "code",
   "execution_count": null,
   "id": "df533873-bd11-42a9-a7fd-ee5057494514",
   "metadata": {},
   "outputs": [],
   "source": []
  },
  {
   "cell_type": "code",
   "execution_count": 32,
   "id": "6f7b3df4-5a4f-4cfa-82d0-cc2ba9d5580b",
   "metadata": {},
   "outputs": [
    {
     "name": "stdout",
     "output_type": "stream",
     "text": [
      "48\n",
      "(48, 16384, 1)\n"
     ]
    }
   ],
   "source": [
    "import pandas as pd\n",
    "\n",
    "data_BBH_df = pd.read_csv(\"./BBH/original-noise-unseen.csv\", header=None)\n",
    "X = data_BBH_df.values.astype(float)\n",
    "\n",
    "print(len(data_BBH_df.index))\n",
    "\n",
    "y = [0 for i in range(len(data_BBH_df.index))]\n",
    "\n",
    "X = scaler.transform(X)\n",
    "\n",
    "X = np.expand_dims(X, axis=-1)\n",
    "print(X.shape)"
   ]
  },
  {
   "cell_type": "code",
   "execution_count": 39,
   "id": "675f4612-67b6-48dc-bbfa-d27a2c02aa6f",
   "metadata": {},
   "outputs": [
    {
     "name": "stdout",
     "output_type": "stream",
     "text": [
      "2/2 [==============================] - 0s 253ms/step\n",
      "Total no. of original noise data samples: 48\n",
      "No. of correct predictions by Residual CNN model: 48\n",
      "Accuracy of Residual CNN model: 100.00%\n"
     ]
    }
   ],
   "source": [
    "pred_residual_cnn = residual_cnn_model.predict(X)\n",
    "y_pred = (pred_residual_cnn.ravel() > 0.5).astype(int)\n",
    "correct = np.sum(y_pred == y)\n",
    "acc = (correct / len(y)) * 100\n",
    "\n",
    "print(f\"Total no. of original noise data samples: {len(y)}\")\n",
    "print(f\"No. of correct predictions by Residual CNN model: {correct}\")\n",
    "print(f\"Accuracy of Residual CNN model: {acc:.2f}%\")"
   ]
  },
  {
   "cell_type": "code",
   "execution_count": 40,
   "id": "b2286114-924d-4d69-b808-bb7b4c52f946",
   "metadata": {},
   "outputs": [
    {
     "name": "stdout",
     "output_type": "stream",
     "text": [
      "2/2 [==============================] - 0s 53ms/step\n",
      "Total no. of original noise data samples: 48\n",
      "No. of correct predictions by CNN + GRU model: 48\n",
      "Accuracy of CNN + GRU model: 100.00%\n"
     ]
    }
   ],
   "source": [
    "pred_cnn_gru = cnn_gru_model.predict(X)\n",
    "y_pred = (pred_cnn_gru.ravel() > 0.5).astype(int)\n",
    "correct = np.sum(y_pred == y)\n",
    "acc = (correct / len(y)) * 100\n",
    "\n",
    "print(f\"Total no. of original noise data samples: {len(y)}\")\n",
    "print(f\"No. of correct predictions by CNN + GRU model: {correct}\")\n",
    "print(f\"Accuracy of CNN + GRU model: {acc:.2f}%\")"
   ]
  },
  {
   "cell_type": "code",
   "execution_count": 41,
   "id": "a6dd1fc0-49c3-48c0-8975-06b6bf9ccf3a",
   "metadata": {},
   "outputs": [
    {
     "name": "stdout",
     "output_type": "stream",
     "text": [
      "2/2 [==============================] - 0s 94ms/step\n",
      "Total no. of original noise data samples: 48\n",
      "No. of correct predictions by Pure CNN model: 48\n",
      "Accuracy of Pure CNN model: 100.00%\n"
     ]
    }
   ],
   "source": [
    "pred_pure_cnn = pure_cnn_model.predict(X)\n",
    "y_pred = (pred_pure_cnn.ravel() > 0.5).astype(int)\n",
    "correct = np.sum(y_pred == y)\n",
    "acc = (correct / len(y)) * 100\n",
    "\n",
    "print(f\"Total no. of original noise data samples: {len(y)}\")\n",
    "print(f\"No. of correct predictions by Pure CNN model: {correct}\")\n",
    "print(f\"Accuracy of Pure CNN model: {acc:.2f}%\")"
   ]
  },
  {
   "cell_type": "code",
   "execution_count": 42,
   "id": "9be17391-2ee7-439d-a892-0d5655f2f4b9",
   "metadata": {},
   "outputs": [
    {
     "name": "stdout",
     "output_type": "stream",
     "text": [
      "2/2 [==============================] - 0s 8ms/step\n",
      "Total no. of original noise data samples: 48\n",
      "No. of correct predictions by CNN + Transormfer model: 48\n",
      "Accuracy of CNN + Transormfer model: 100.00%\n"
     ]
    }
   ],
   "source": [
    "pred_cnn_transormer = cnn_transormer_model.predict(X)\n",
    "y_pred = (pred_cnn_transormer.ravel() > 0.5).astype(int)\n",
    "correct = np.sum(y_pred == y)\n",
    "acc = (correct / len(y)) * 100\n",
    "\n",
    "print(f\"Total no. of original noise data samples: {len(y)}\")\n",
    "print(f\"No. of correct predictions by CNN + Transormfer model: {correct}\")\n",
    "print(f\"Accuracy of CNN + Transormfer model: {acc:.2f}%\")"
   ]
  },
  {
   "cell_type": "code",
   "execution_count": 43,
   "id": "3d7f1c93-88eb-4365-ab4e-a093648ed909",
   "metadata": {},
   "outputs": [
    {
     "name": "stdout",
     "output_type": "stream",
     "text": [
      "Total no. of original noise data samples: 48\n",
      "No. of correct predictions: 48\n",
      "Accuracy: 100.00%\n"
     ]
    }
   ],
   "source": [
    "#\n",
    "#\n",
    "#\n",
    "#Ensemble technique implementation\n",
    "#\n",
    "#\n",
    "#\n",
    "\n",
    "ensemble_pred = (pred_residual_cnn.ravel() + pred_cnn_gru.ravel() + pred_pure_cnn.ravel() + pred_cnn_transormer.ravel()) / 4\n",
    "final_pred = (ensemble_pred.ravel() > 0.5).astype(int)\n",
    "correct_final_pred = np.sum(final_pred == y)\n",
    "acc_final = (correct_final_pred / len(y)) * 100\n",
    "\n",
    "print(f\"Total no. of original noise data samples: {len(y)}\")\n",
    "print(f\"No. of correct predictions: {correct_final_pred}\")\n",
    "print(f\"Accuracy: {acc_final:.2f}%\")"
   ]
  },
  {
   "cell_type": "code",
   "execution_count": null,
   "id": "ecc6084f-e2c7-4443-a328-865e6cbb1d10",
   "metadata": {},
   "outputs": [],
   "source": []
  }
 ],
 "metadata": {
  "kernelspec": {
   "display_name": "Python 3 (ipykernel)",
   "language": "python",
   "name": "python3"
  },
  "language_info": {
   "codemirror_mode": {
    "name": "ipython",
    "version": 3
   },
   "file_extension": ".py",
   "mimetype": "text/x-python",
   "name": "python",
   "nbconvert_exporter": "python",
   "pygments_lexer": "ipython3",
   "version": "3.8.10"
  }
 },
 "nbformat": 4,
 "nbformat_minor": 5
}
