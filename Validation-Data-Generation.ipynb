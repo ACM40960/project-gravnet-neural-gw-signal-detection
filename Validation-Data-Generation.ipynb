{
 "cells": [
  {
   "cell_type": "code",
   "execution_count": 4,
   "id": "6ce88d6a-d01a-45fb-961a-aef73f77cf74",
   "metadata": {},
   "outputs": [],
   "source": [
    "from pycbc import distributions\n",
    "from pycbc.waveform import get_td_waveform, td_approximants\n",
    "from pycbc.detector import Detector\n",
    "import matplotlib.pyplot as plt\n",
    "import numpy as np\n",
    "import gwpy\n",
    "import pylab\n",
    "from tqdm.notebook import tqdm\n",
    "from gwpy.timeseries import TimeSeries\n",
    "import pandas as pd\n",
    "import os\n",
    "import csv\n",
    "import pycbc.noise\n",
    "import pycbc.psd\n",
    "from pycbc.filter import matched_filter"
   ]
  },
  {
   "cell_type": "code",
   "execution_count": 6,
   "id": "3d7c7932-44ba-42a2-93e1-c65018e963bf",
   "metadata": {},
   "outputs": [],
   "source": [
    "directory = \"C:/Users/sunda/Documents/Github/Gravitational Wave Detection/scripts/raw-val-data-files/\"\n",
    "os.makedirs(directory, exist_ok=True)"
   ]
  },
  {
   "cell_type": "code",
   "execution_count": 5,
   "id": "a4deb696-69bd-429b-a538-c9373cd49f7d",
   "metadata": {},
   "outputs": [
    {
     "name": "stdout",
     "output_type": "stream",
     "text": [
      "Generated Binary Mass Distributions for BBH\n",
      "Generated Binary Mass Distributions for BNS\n"
     ]
    }
   ],
   "source": [
    "print(\"Generated Binary Mass Distributions for BBH\")\n",
    "bbh_two_mass_distributions = distributions.Uniform(mass1=(10, 50),\n",
    "                                               mass2=(10, 50))\n",
    "\n",
    "bbh_two_mass_samples = bbh_two_mass_distributions.rvs(size=1000)\n",
    "\n",
    "print(\"Generated Binary Mass Distributions for BNS\")\n",
    "bns_two_mass_distributions = distributions.Uniform(mass1=(1, 2),\n",
    "                                               mass2=(1, 2))\n",
    "\n",
    "bns_two_mass_samples = bns_two_mass_distributions.rvs(size=1000)"
   ]
  },
  {
   "cell_type": "code",
   "execution_count": 7,
   "id": "3ee8904b-8c38-47a2-8796-0b8760112cff",
   "metadata": {},
   "outputs": [
    {
     "data": {
      "application/vnd.jupyter.widget-view+json": {
       "model_id": "0fe90a98a4cd4eb891e73eb2f07e5cfe",
       "version_major": 2,
       "version_minor": 0
      },
      "text/plain": [
       "  0%|          | 0/1000 [00:00<?, ?it/s]"
      ]
     },
     "metadata": {},
     "output_type": "display_data"
    }
   ],
   "source": [
    "os.makedirs(directory+\"noise_templates/\")\n",
    "for i in tqdm(range(1000)):\n",
    "    \n",
    "    # The color of the noise matches a PSD which you provide\n",
    "    flow = 30.0\n",
    "    delta_f = 1.0 / 16\n",
    "    flen = int(2048 / delta_f) + 1\n",
    "    psd = pycbc.psd.aLIGOZeroDetHighPower(flen, delta_f, flow)\n",
    "\n",
    "    # Generate 4 seconds of noise at 4096 Hz\n",
    "    delta_t = 1.0 / 4096\n",
    "    tsamples = int(4 / delta_t)\n",
    "    noise = pycbc.noise.noise_from_psd(tsamples, delta_t, psd)\n",
    "\n",
    "    noise *= 1e21\n",
    "    noise *= 0.4\n",
    "    noise = TimeSeries.from_pycbc(noise)\n",
    "\n",
    "    noise *= 1e-17\n",
    "    noise.write(directory+\"/noise_templates/noise_4k_\"+str(i)+\".txt\")"
   ]
  },
  {
   "cell_type": "code",
   "execution_count": 10,
   "id": "423c8ebd-a3cf-49e3-9cfc-190e79fb9f37",
   "metadata": {},
   "outputs": [
    {
     "data": {
      "application/vnd.jupyter.widget-view+json": {
       "model_id": "f4d911ac91134276af06189f5f9ab455",
       "version_major": 2,
       "version_minor": 0
      },
      "text/plain": [
       "  0%|          | 0/1000 [00:00<?, ?it/s]"
      ]
     },
     "metadata": {},
     "output_type": "display_data"
    }
   ],
   "source": [
    "start_times_bbh = [0, 0.5, 1, 1.5, 2, 2.5, 3, 3.5]\n",
    "start_times_bns = [0, 0.5, 1, 1.5, 2, 2.5, 3]\n",
    "os.makedirs(directory+\"merged_bbh_noise_signal/\")\n",
    "os.makedirs(directory+\"merged_bns_noise_signal/\")\n",
    "\n",
    "for i in tqdm(range(len(bbh_two_mass_samples))):\n",
    "\n",
    "    hp1, hc1 = get_td_waveform(approximant=\"SEOBNRv2\",                                \n",
    "                         mass1=bbh_two_mass_samples[i][0],\n",
    "                         mass2=bbh_two_mass_samples[i][1],\n",
    "                         delta_t=1.0/4096,\n",
    "                         f_lower=40)\n",
    "\n",
    "\n",
    "    hp2, hc2 = get_td_waveform(approximant=\"IMRPhenomPv2_NRTidal\", \n",
    "                         mass1=bns_two_mass_samples[i][0],\n",
    "                         mass2=bns_two_mass_samples[i][1],\n",
    "                         delta_t=1.0/4096,\n",
    "                         f_lower=40)\n",
    "\n",
    "\n",
    "    bbh_signal = TimeSeries.from_pycbc(hp1)\n",
    "    st1 = np.random.randint(0, 8)\n",
    "    bbh_signal.t0 = start_times_bbh[st1]\n",
    "    bbh_signal = (bbh_signal/(max(bbh_signal.max(), np.abs(bbh_signal.min()))))*0.2\n",
    "\n",
    "\n",
    "    # Extract the last 1 sec from the BNS signal\n",
    "    t = hp2.get_end_time()\n",
    "    hp2 = hp2.time_slice(t-1, t)\n",
    "\n",
    "    bns_signal = TimeSeries.from_pycbc(hp2)\n",
    "    st2 = np.random.randint(0, 7)\n",
    "    bns_signal.t0 = start_times_bns[st2]\n",
    "    bns_signal = bns_signal.taper()\n",
    "    bns_signal = (bns_signal/(max(bns_signal.max(), np.abs(bns_signal.min()))))*0.2\n",
    "\n",
    "    # The color of the noise matches a PSD which you provide\n",
    "    flow = 30.0\n",
    "    delta_f = 1.0 / 16\n",
    "    flen = int(2048 / delta_f) + 1\n",
    "    psd = pycbc.psd.aLIGOZeroDetHighPower(flen, delta_f, flow)\n",
    "\n",
    "    # Generate 4 seconds of noise at 4096 Hz\n",
    "    delta_t = 1.0 / 4096\n",
    "    tsamples = int(4 / delta_t)\n",
    "    noise = pycbc.noise.noise_from_psd(tsamples, delta_t, psd)\n",
    "\n",
    "    noise *= 1e21\n",
    "    noise *= 0.4\n",
    "    noise = TimeSeries.from_pycbc(noise)\n",
    "\n",
    "\n",
    "    data1 = noise.inject(bbh_signal)\n",
    "    data2 = noise.inject(bns_signal)\n",
    "\n",
    "    data1 *= 1e-17\n",
    "    data2 *= 1e-17\n",
    "    \n",
    "    data1.write(directory+\"merged_bbh_noise_signal/merged_noise_signal_\"+str(i)+\".txt\")\n",
    "    data2.write(directory+\"merged_bns_noise_signal/bns_merged_noise_signal_\"+str(i)+\".txt\")"
   ]
  },
  {
   "cell_type": "code",
   "execution_count": 12,
   "id": "7061f9bb-b9c3-4490-8170-85397dcb995b",
   "metadata": {},
   "outputs": [
    {
     "data": {
      "application/vnd.jupyter.widget-view+json": {
       "model_id": "3eb0da7819504e049dcc65999699b7b1",
       "version_major": 2,
       "version_minor": 0
      },
      "text/plain": [
       "  0%|          | 0/1000 [00:00<?, ?it/s]"
      ]
     },
     "metadata": {},
     "output_type": "display_data"
    }
   ],
   "source": [
    "path = directory+\"merged_bbh_noise_signal/\"\n",
    "files= os.listdir(path)\n",
    "f = open(directory+'val_Final_BBH_Merged_Noise_Signal_Reduced_No_ABS.csv', 'w')\n",
    "cw = csv.writer(f)\n",
    "\n",
    "for i in tqdm(files):\n",
    "    df = pd.read_csv(path+i,sep = ' ', header=None)\n",
    "    c = df[:][1]\n",
    "    cw.writerow(c)\n",
    "f.close()"
   ]
  },
  {
   "cell_type": "code",
   "execution_count": 13,
   "id": "6b193e9b-80ee-4927-a6e8-4bf580dda31a",
   "metadata": {},
   "outputs": [
    {
     "data": {
      "application/vnd.jupyter.widget-view+json": {
       "model_id": "5fed99d6d56c462eadd0addc3218d25f",
       "version_major": 2,
       "version_minor": 0
      },
      "text/plain": [
       "  0%|          | 0/1000 [00:00<?, ?it/s]"
      ]
     },
     "metadata": {},
     "output_type": "display_data"
    }
   ],
   "source": [
    "path_1 = directory+\"noise_templates/\"\n",
    "files_1= os.listdir(path_1)\n",
    "f1 = open(directory+'val_Final_Merged_Noise_Reduced_No_Abs.csv', 'w')\n",
    "cw_1 = csv.writer(f1)\n",
    "\n",
    "for i in tqdm(files_1):\n",
    "    #print(files)\n",
    "    df = pd.read_csv(path_1+i,sep = ' ', header=None)\n",
    "    c = df[:][1]\n",
    "    cw_1.writerow(c)\n",
    "f1.close()"
   ]
  },
  {
   "cell_type": "code",
   "execution_count": 14,
   "id": "73a3e5a5-e9cc-4ba7-849b-b646eba7ccba",
   "metadata": {},
   "outputs": [
    {
     "data": {
      "application/vnd.jupyter.widget-view+json": {
       "model_id": "1f380750724d4deb8f1b550fa0d9f898",
       "version_major": 2,
       "version_minor": 0
      },
      "text/plain": [
       "  0%|          | 0/1000 [00:00<?, ?it/s]"
      ]
     },
     "metadata": {},
     "output_type": "display_data"
    }
   ],
   "source": [
    "path = directory+\"merged_bns_noise_signal/\"\n",
    "files= os.listdir(path)\n",
    "f = open(directory+'val_Final_BNS_Merged_Noise_Signal_Reduced_No_ABS.csv', 'w')\n",
    "cw = csv.writer(f)\n",
    "\n",
    "for i in tqdm(files):\n",
    "    df = pd.read_csv(path+i,sep = ' ', header=None)\n",
    "    c = df[:][1]\n",
    "    cw.writerow(c)\n",
    "f.close()"
   ]
  },
  {
   "cell_type": "code",
   "execution_count": null,
   "id": "3baf28d5-61cd-428f-b9c4-a2ab0f3e95a4",
   "metadata": {},
   "outputs": [],
   "source": []
  }
 ],
 "metadata": {
  "kernelspec": {
   "display_name": "Python 3 (ipykernel)",
   "language": "python",
   "name": "python3"
  },
  "language_info": {
   "codemirror_mode": {
    "name": "ipython",
    "version": 3
   },
   "file_extension": ".py",
   "mimetype": "text/x-python",
   "name": "python",
   "nbconvert_exporter": "python",
   "pygments_lexer": "ipython3",
   "version": "3.8.10"
  }
 },
 "nbformat": 4,
 "nbformat_minor": 5
}
